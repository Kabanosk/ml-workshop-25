{
  "cells": [
    {
      "cell_type": "markdown",
      "metadata": {
        "id": "8xr7ZztmZsDX"
      },
      "source": [
        "# 🎓 Finałowa misja: Zbuduj własną sieć neuronową!\n",
        "\n",
        "Gratulacje! Dotarłeś do ostatnich zajęć z naszego cyklu warsztatów z uczenia maszynowego. Przez ostatnie tygodnie wspólnie:\n",
        "\n",
        "- Poznaliśmy podstawy uczenia maszynowego i jego zastosowania w codziennym życiu.\n",
        "- Zgłębiliśmy różne algorytmy klasyfikacji, takie jak KNN\n",
        "- Nauczyliśmy się przetwarzać i analizować dane, przygotowując je do modeli ML.\n",
        "- Zrozumieliśmy, jak działają regresja liniowa i logistyczna oraz jak je implementować.\n",
        "\n",
        "Dziś masz **ostatnią misję**.\n",
        "\n",
        "## 🕹️ Misja: MNIST – Rozpoznawanie ręcznie pisanych cyfr\n",
        "\n",
        "Twoim zadaniem jest:\n",
        "\n",
        "1. **Samodzielnie zbudować sieć neuronową** – użyj `nn.Sequential`, `nn.Linear`, funkcji aktywacji...\n",
        "2. **Samodzielnie przeprowadzić trening** – wybierz liczbę epok, batch size, funkcję kosztu, optymalizator...\n",
        "3. **Poprawić model** – np. dodaj kolejną warstwę, zmień liczbę neuronów, użyj Dropout albo ReLU zamiast Sigmoid.\n",
        "4. **Sprawdź dokładność** modelu na danych testowych.\n",
        "\n",
        "---\n",
        "\n",
        "## 📌 Twój cel:\n",
        "Zbuduj model, który osiąga przynajmniej **90% dokładności** na danych testowych.  \n"
      ]
    },
    {
      "cell_type": "code",
      "execution_count": null,
      "metadata": {
        "colab": {
          "base_uri": "https://localhost:8080/"
        },
        "id": "g2gOzbNGYVrp",
        "outputId": "4e79288b-1257-4b87-dc74-733295fe8547"
      },
      "outputs": [],
      "source": [
        "# 📦 Import bibliotek\n",
        "import torch\n",
        "import torch.nn as nn\n",
        "import torch.optim as optim\n",
        "import torchvision\n",
        "import torchvision.transforms as transforms\n",
        "import matplotlib.pyplot as plt\n",
        "from tqdm import tqdm\n",
        "\n",
        "# 🔧 Ustawienie urządzenia\n",
        "device = torch.device(\"cuda\" if torch.cuda.is_available() else \"cpu\")\n",
        "print(f\"Używane urządzenie: {device}\")"
      ]
    },
    {
      "cell_type": "code",
      "execution_count": null,
      "metadata": {
        "colab": {
          "base_uri": "https://localhost:8080/"
        },
        "id": "JsIhOp_9YWdp",
        "outputId": "7c0e6cf4-a4c2-4db0-eded-043d34840b59"
      },
      "outputs": [],
      "source": [
        "# 📥 Wczytanie i przetwarzanie danych MNIST\n",
        "transform = transforms.Compose([\n",
        "    transforms.ToTensor(),\n",
        "    transforms.Normalize((0.5,), (0.5,))\n",
        "])\n",
        "\n",
        "BATCH_SIZE = 64\n",
        "\n",
        "trainset = torchvision.datasets.MNIST(root='./data', train=True, download=True, transform=transform)\n",
        "trainloader = torch.utils.data.DataLoader(trainset, batch_size=BATCH_SIZE, shuffle=True)\n",
        "\n",
        "testset = torchvision.datasets.MNIST(root='./data', train=False, download=True, transform=transform)\n",
        "testloader = torch.utils.data.DataLoader(testset, batch_size=BATCH_SIZE, shuffle=False)\n"
      ]
    },
    {
      "cell_type": "code",
      "execution_count": null,
      "metadata": {
        "colab": {
          "base_uri": "https://localhost:8080/",
          "height": 438
        },
        "id": "SJzulzrtYXkj",
        "outputId": "7fdfa161-57b7-4495-cda0-717acbadd65c"
      },
      "outputs": [],
      "source": [
        "# 👁️‍🗨️ Podgląd kilku przykładowych danych\n",
        "examples = enumerate(trainloader)\n",
        "batch_idx, (example_data, example_targets) = next(examples)\n",
        "\n",
        "fig = plt.figure()\n",
        "for i in range(6):\n",
        "    plt.subplot(2, 3, i + 1)\n",
        "    plt.tight_layout()\n",
        "    plt.imshow(example_data[i][0], cmap='gray')\n",
        "    plt.title(f\"Cyfra: {example_targets[i]}\")\n",
        "    plt.xticks([])\n",
        "    plt.yticks([])\n",
        "plt.show()\n"
      ]
    },
    {
      "cell_type": "code",
      "execution_count": null,
      "metadata": {
        "colab": {
          "base_uri": "https://localhost:8080/"
        },
        "id": "cmOotercYas-",
        "outputId": "cdac3937-2c88-4a0a-8b36-357f71a1f83e"
      },
      "outputs": [],
      "source": [
        "# 🧠 Definicja sieci neuronowej przy użyciu nn.Sequential\n",
        "\n",
        "# Trzeba uzupełnić odpowiednio nn.Sequential (nn.Flatten zostaje jako podpowiedź :D)\n",
        "model = nn.Sequential(\n",
        "    nn.Flatten(),                # Spłaszczenie obrazu 28x28 -> 784\n",
        ").to(device)\n",
        "\n",
        "print(model)\n"
      ]
    },
    {
      "cell_type": "code",
      "execution_count": null,
      "metadata": {
        "id": "ZvSrAuFAYdzI"
      },
      "outputs": [],
      "source": [
        "# ⚙️ Funkcja kosztu i optymalizator\n",
        "loss_fn = nn.CrossEntropyLoss()\n",
        "optimizer = optim.Adam(model.parameters(), lr=0.001)\n"
      ]
    },
    {
      "cell_type": "code",
      "execution_count": null,
      "metadata": {
        "colab": {
          "base_uri": "https://localhost:8080/"
        },
        "id": "cLY887R5Ye_5",
        "outputId": "038f6ab7-7916-4fb1-daed-5c0ba893496e"
      },
      "outputs": [],
      "source": [
        "# 🏋️‍♂️ Trenowanie modelu\n",
        "epochs = 5\n",
        "\n",
        "for epoch in tqdm(range(epochs)):\n",
        "    for batch_idx, (inputs, labels) in enumerate(trainloader):\n",
        "        inputs, labels = inputs.to(device), labels.to(device)\n",
        "\n",
        "        optimizer.zero_grad()\n",
        "\n",
        "        # Trzeba zdobyć wynik po przepuszczniu inputu przez model\n",
        "        # obliczyć loss na podstawie outputów i labelów\n",
        "        outputs = ...\n",
        "        loss = ...\n",
        "\n",
        "\n",
        "        # 🔍 Debug: wypisz stratę co 100 batchy\n",
        "        if batch_idx % 1000 == 0:\n",
        "            print(f\"[Batch {batch_idx}] Strata: {loss.item():.4f}\")\n",
        "\n",
        "        # Zaktualizuj loss\n",
        "        # Zaktualizuj optimizer\n",
        "\n",
        "\n",
        "    print(f\"Epoka {epoch+1} zakończona\")\n"
      ]
    },
    {
      "cell_type": "code",
      "execution_count": null,
      "metadata": {
        "id": "otPHwsVTYgO4"
      },
      "outputs": [],
      "source": [
        "# 📊 Ocena modelu na danych testowych\n",
        "\n",
        "def test_model(model):\n",
        "\n",
        "  correct = 0\n",
        "  total = 0\n",
        "\n",
        "  with torch.no_grad():\n",
        "      for inputs, labels in testloader:\n",
        "          inputs, labels = inputs.to(device), labels.to(device)\n",
        "          outputs = model(inputs)\n",
        "          _, predicted = torch.max(outputs.data, 1)\n",
        "          total += labels.size(0)\n",
        "          correct += (predicted == labels).sum().item()\n",
        "\n",
        "  print(f\"Dokładność na zbiorze testowym: {100 * correct / total:.2f}%\")\n",
        "  return 100 * correct / total\n"
      ]
    },
    {
      "cell_type": "code",
      "execution_count": null,
      "metadata": {
        "colab": {
          "base_uri": "https://localhost:8080/"
        },
        "id": "FJdxsXS3azuq",
        "outputId": "3a679815-6537-457a-bacb-4479826167bd"
      },
      "outputs": [],
      "source": [
        "test_model(model)"
      ]
    },
    {
      "cell_type": "code",
      "execution_count": null,
      "metadata": {
        "id": "xTMspFZBYk1I"
      },
      "outputs": [],
      "source": [
        "# 🧪 Zadania dodatkowe:\n",
        "# - Zmień liczbę neuronów w warstwie ukrytej\n",
        "# - Dodaj kolejne warstwy\n",
        "# - Zastosuj dropout, batch normalization\n",
        "# - Zmieniaj liczbę epok i ucz się, jak wpływa to na wynik\n"
      ]
    }
  ],
  "metadata": {
    "accelerator": "GPU",
    "colab": {
      "gpuType": "T4",
      "provenance": []
    },
    "kernelspec": {
      "display_name": "Python 3",
      "name": "python3"
    },
    "language_info": {
      "name": "python"
    }
  },
  "nbformat": 4,
  "nbformat_minor": 0
}
