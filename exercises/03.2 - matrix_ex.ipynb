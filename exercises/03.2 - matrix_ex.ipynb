{
  "cells": [
    {
      "cell_type": "markdown",
      "metadata": {
        "id": "0k-lnXmjKip6"
      },
      "source": [
        "Na wykładzie poznaliśmy parę najważniejszych operacji macierzowych oraz po krótce wyjaśniliśmy, dlaczego są one ważne w uczeniu maszynowym (a nawet kluczowe, kiedy myślimy o złożoności obliczeniowej).\n",
        "\n",
        "Poniższe ćwiczenia mają na celu zaimplementowanie tych operacji."
      ]
    },
    {
      "cell_type": "code",
      "execution_count": null,
      "metadata": {
        "id": "BjRqEMpvKip7"
      },
      "outputs": [],
      "source": [
        "import numpy as np"
      ]
    },
    {
      "cell_type": "markdown",
      "metadata": {
        "id": "uB9BwJkaKip7"
      },
      "source": [
        "Przydatne do zadań: jak dostać się do konkretnego elementu macierzy? (u nas numpy.array)"
      ]
    },
    {
      "cell_type": "code",
      "execution_count": null,
      "metadata": {
        "id": "MSwQS3mtKip7",
        "outputId": "d7b5f9bc-85ee-4e47-9451-7d16cbc956c1"
      },
      "outputs": [
        {
          "name": "stdout",
          "output_type": "stream",
          "text": [
            "a_11 = 1\n",
            "a_23 = 6\n",
            "a_13 = 3\n"
          ]
        }
      ],
      "source": [
        "A = np.array([[1, 2, 3],\n",
        "              [4, 5, 6]])\n",
        "\n",
        "a_11 = A[0][0]\n",
        "a_23 = A[1][2]\n",
        "a_13 = A[0][2]\n",
        "\n",
        "print('a_11 =', a_11)\n",
        "print('a_23 =', a_23)\n",
        "print('a_13 =', a_13)"
      ]
    },
    {
      "cell_type": "markdown",
      "metadata": {
        "id": "C1oq-llPKip9"
      },
      "source": [
        "Jak dostać się do wymiaru macierzy?"
      ]
    },
    {
      "cell_type": "code",
      "execution_count": null,
      "metadata": {
        "id": "f6728-GNKip9",
        "outputId": "ea3e99df-33b8-4b1f-e6db-955f8ce9f81c"
      },
      "outputs": [
        {
          "name": "stdout",
          "output_type": "stream",
          "text": [
            "(2, 3)\n",
            "2\n",
            "3\n"
          ]
        }
      ],
      "source": [
        "A = np.array([[1, 2, 3],\n",
        "              [4, 5, 6]])\n",
        "\n",
        "print(A.shape) # (liczba rzędów, liczba kolumn)\n",
        "print(A.shape[0])    # liczba rzędów\n",
        "print(A.shape[1])    # liczba kolumn\n"
      ]
    },
    {
      "cell_type": "markdown",
      "metadata": {
        "id": "vaRxFca4Kip9"
      },
      "source": [
        "# ZADANIE 1"
      ]
    },
    {
      "cell_type": "markdown",
      "metadata": {
        "id": "rMWoLpcLKip9"
      },
      "source": [
        "Zaimplementuj dodawnie oraz odejmowanie macierzy, nie korzystając z funkcjonalności biblioteki numpy."
      ]
    },
    {
      "cell_type": "code",
      "execution_count": null,
      "metadata": {
        "id": "eIibr4NXKip9"
      },
      "outputs": [],
      "source": [
        "def add_matrix(m1 : np.ndarray, m2 : np.ndarray) -> np.ndarray:\n",
        "    #TODO\n",
        "    size = m1.shape\n",
        "    C = []\n",
        "    for i in range(size[0]):\n",
        "      W=[]\n",
        "      for j in range(size[1]):\n",
        "        W.append(m1[i][j]+m2[i][j])\n",
        "      C.append(W)\n",
        "    C=np.array(C)\n",
        "    return C\n",
        "    pass\n",
        "\n",
        "def subtract_matrix(m1 : np.ndarray, m2 : np.ndarray) -> np.ndarray:\n",
        "    #TODO\n",
        "    size = m1.shape\n",
        "    C = []\n",
        "    for i in range(size[0]):\n",
        "      W=[]\n",
        "      for j in range(size[1]):\n",
        "        W.append(m1[i][j]-m2[i][j])\n",
        "      C.append(W)\n",
        "    C=np.array(C)\n",
        "    return C\n",
        "    pass"
      ]
    },
    {
      "cell_type": "markdown",
      "metadata": {
        "id": "Z46n8bSfKip9"
      },
      "source": [
        "Test dodawania"
      ]
    },
    {
      "cell_type": "code",
      "execution_count": null,
      "metadata": {
        "id": "NxTQk5_4Kip9",
        "outputId": "4458b1d8-9a06-4ebe-a151-f6973a99fd8e"
      },
      "outputs": [
        {
          "ename": "AttributeError",
          "evalue": "'NoneType' object has no attribute 'shape'",
          "output_type": "error",
          "traceback": [
            "\u001b[1;31m---------------------------------------------------------------------------\u001b[0m",
            "\u001b[1;31mAttributeError\u001b[0m                            Traceback (most recent call last)",
            "Cell \u001b[1;32mIn[24], line 10\u001b[0m\n\u001b[0;32m      7\u001b[0m C \u001b[38;5;241m=\u001b[39m A \u001b[38;5;241m+\u001b[39m B\n\u001b[0;32m      8\u001b[0m C_student \u001b[38;5;241m=\u001b[39m add_matrix(A, B)\n\u001b[1;32m---> 10\u001b[0m \u001b[38;5;28;01massert\u001b[39;00m C\u001b[38;5;241m.\u001b[39mshape \u001b[38;5;241m==\u001b[39m \u001b[43mC_student\u001b[49m\u001b[38;5;241;43m.\u001b[39;49m\u001b[43mshape\u001b[49m\n\u001b[0;32m     11\u001b[0m \u001b[38;5;28;01massert\u001b[39;00m (C_student \u001b[38;5;241m==\u001b[39m C)\u001b[38;5;241m.\u001b[39mall()\n\u001b[0;32m     12\u001b[0m \u001b[38;5;28mprint\u001b[39m(\u001b[38;5;124m'\u001b[39m\u001b[38;5;124mWorks good!\u001b[39m\u001b[38;5;124m'\u001b[39m)\n",
            "\u001b[1;31mAttributeError\u001b[0m: 'NoneType' object has no attribute 'shape'"
          ]
        }
      ],
      "source": [
        "A = np.array([[1, 2, 3],\n",
        "              [4, 5, 6]])\n",
        "\n",
        "B = np.array([[-1, 3, 3],\n",
        "              [-5, 0, 1]])\n",
        "\n",
        "C = A + B\n",
        "C_student = add_matrix(A, B)\n",
        "\n",
        "assert C.shape == C_student.shape\n",
        "assert (C_student == C).all()\n",
        "print('Works good!')"
      ]
    },
    {
      "cell_type": "markdown",
      "metadata": {
        "id": "33fjFVErKip-"
      },
      "source": [
        "Test odejmowania"
      ]
    },
    {
      "cell_type": "code",
      "execution_count": null,
      "metadata": {
        "id": "V4ggxGsVKip-",
        "outputId": "bb0a1bb7-d6bd-4ede-a413-4e3ca6be932a"
      },
      "outputs": [
        {
          "ename": "AttributeError",
          "evalue": "'NoneType' object has no attribute 'shape'",
          "output_type": "error",
          "traceback": [
            "\u001b[1;31m---------------------------------------------------------------------------\u001b[0m",
            "\u001b[1;31mAttributeError\u001b[0m                            Traceback (most recent call last)",
            "Cell \u001b[1;32mIn[12], line 10\u001b[0m\n\u001b[0;32m      7\u001b[0m C \u001b[38;5;241m=\u001b[39m A \u001b[38;5;241m-\u001b[39m B\n\u001b[0;32m      8\u001b[0m C_student \u001b[38;5;241m=\u001b[39m subtract_matrix(A, B)\n\u001b[1;32m---> 10\u001b[0m \u001b[38;5;28;01massert\u001b[39;00m C\u001b[38;5;241m.\u001b[39mshape \u001b[38;5;241m==\u001b[39m \u001b[43mC_student\u001b[49m\u001b[38;5;241;43m.\u001b[39;49m\u001b[43mshape\u001b[49m\n\u001b[0;32m     11\u001b[0m \u001b[38;5;28;01massert\u001b[39;00m (C_student \u001b[38;5;241m==\u001b[39m C)\u001b[38;5;241m.\u001b[39mall()\n\u001b[0;32m     12\u001b[0m \u001b[38;5;28mprint\u001b[39m(\u001b[38;5;124m'\u001b[39m\u001b[38;5;124mWorks good!\u001b[39m\u001b[38;5;124m'\u001b[39m)\n",
            "\u001b[1;31mAttributeError\u001b[0m: 'NoneType' object has no attribute 'shape'"
          ]
        }
      ],
      "source": [
        "A = np.array([[1, 2, 3],\n",
        "              [4, 5, 6]])\n",
        "\n",
        "B = np.array([[-1, 3, 3],\n",
        "              [-5, 0, 1]])\n",
        "\n",
        "C = A - B\n",
        "C_student = subtract_matrix(A, B)\n",
        "\n",
        "assert C.shape == C_student.shape\n",
        "assert (C_student == C).all()\n",
        "print('Works good!')"
      ]
    },
    {
      "cell_type": "markdown",
      "metadata": {
        "id": "y6tYIUSeKip-"
      },
      "source": [
        "# Zadanie 2"
      ]
    },
    {
      "cell_type": "markdown",
      "metadata": {
        "id": "9xHXidvYKip-"
      },
      "source": [
        "Zaimplementuj transponens macierzy, nie korzystając z funkcjonalności numpy."
      ]
    },
    {
      "cell_type": "markdown",
      "metadata": {
        "id": "v0gIp5VZKip-"
      },
      "source": [
        "UWAGA! Może zmienić się wymiar macierzy."
      ]
    },
    {
      "cell_type": "code",
      "execution_count": null,
      "metadata": {
        "id": "bERgUU9jKip-"
      },
      "outputs": [],
      "source": [
        "def transpose_matrix(m : np.ndarray) -> np.ndarray:\n",
        "    #TODO\n",
        "    pass"
      ]
    },
    {
      "cell_type": "markdown",
      "metadata": {
        "id": "QqztgVvUKip-"
      },
      "source": [
        "Test transpozycji"
      ]
    },
    {
      "cell_type": "code",
      "execution_count": null,
      "metadata": {
        "id": "UwiuZLCvKip_",
        "outputId": "7b4636ee-4af3-4a43-ff6d-104d62dee88e"
      },
      "outputs": [
        {
          "ename": "NameError",
          "evalue": "name 'transpose_matrix' is not defined",
          "output_type": "error",
          "traceback": [
            "\u001b[1;31m---------------------------------------------------------------------------\u001b[0m",
            "\u001b[1;31mNameError\u001b[0m                                 Traceback (most recent call last)",
            "Cell \u001b[1;32mIn[14], line 11\u001b[0m\n\u001b[0;32m      8\u001b[0m A_t \u001b[38;5;241m=\u001b[39m A\u001b[38;5;241m.\u001b[39mT\n\u001b[0;32m      9\u001b[0m B_t \u001b[38;5;241m=\u001b[39m B\u001b[38;5;241m.\u001b[39mT\n\u001b[1;32m---> 11\u001b[0m A_t_student \u001b[38;5;241m=\u001b[39m \u001b[43mtranspose_matrix\u001b[49m(A)\n\u001b[0;32m     12\u001b[0m B_t_student \u001b[38;5;241m=\u001b[39m transpose_matrix(B)\n\u001b[0;32m     14\u001b[0m \u001b[38;5;28;01massert\u001b[39;00m A_t\u001b[38;5;241m.\u001b[39mshape \u001b[38;5;241m==\u001b[39m A_t_student\u001b[38;5;241m.\u001b[39mshape\n",
            "\u001b[1;31mNameError\u001b[0m: name 'transpose_matrix' is not defined"
          ]
        }
      ],
      "source": [
        "A = np.array([[1, 2, 3],\n",
        "              [4, 5, 6]])\n",
        "\n",
        "B = np.array([[9, 8, 7],\n",
        "              [6, 5, 4],\n",
        "              [3, 2, 1]])\n",
        "\n",
        "A_t = A.T\n",
        "B_t = B.T\n",
        "\n",
        "A_t_student = transpose_matrix(A)\n",
        "B_t_student = transpose_matrix(B)\n",
        "\n",
        "assert A_t.shape == A_t_student.shape\n",
        "assert B_t.shape == B_t_student.shape\n",
        "assert (A_t == A_t_student).all()\n",
        "assert (B_t == B_t_student).all()\n",
        "print('Works good!')"
      ]
    },
    {
      "cell_type": "markdown",
      "metadata": {
        "id": "fT8A3wy8Kip_"
      },
      "source": [
        "# ZADANIE 3"
      ]
    },
    {
      "cell_type": "markdown",
      "metadata": {
        "id": "80v611ufKip_"
      },
      "source": [
        "Zaimplementuj mnożenie macierzy, nie korzystając z funkcjonalności numpy."
      ]
    },
    {
      "cell_type": "code",
      "execution_count": null,
      "metadata": {
        "id": "mS5QOciQKip_"
      },
      "outputs": [],
      "source": [
        "def multiply_matrix(m1 : np.ndarray, m2 : np.ndarray) -> np.ndarray:\n",
        "    #Ta linijka sprawdza, czy podane macierze mają odpowiednie wymiary\n",
        "    assert m1.shape[1] == m2.shape[0]\n",
        "\n",
        "    #TODO\n",
        "    pass"
      ]
    },
    {
      "cell_type": "markdown",
      "metadata": {
        "id": "mGwfdRhpKiqA"
      },
      "source": [
        "Test mnożenia"
      ]
    },
    {
      "cell_type": "code",
      "execution_count": null,
      "metadata": {
        "id": "mf3_fJdmKiqA",
        "outputId": "aea3dd31-9885-492e-f133-13dc5c9aed9d"
      },
      "outputs": [
        {
          "ename": "AttributeError",
          "evalue": "'NoneType' object has no attribute 'shape'",
          "output_type": "error",
          "traceback": [
            "\u001b[1;31m---------------------------------------------------------------------------\u001b[0m",
            "\u001b[1;31mAttributeError\u001b[0m                            Traceback (most recent call last)",
            "Cell \u001b[1;32mIn[17], line 11\u001b[0m\n\u001b[0;32m      8\u001b[0m C \u001b[38;5;241m=\u001b[39m np\u001b[38;5;241m.\u001b[39mdot(A, B)\n\u001b[0;32m      9\u001b[0m C_student \u001b[38;5;241m=\u001b[39m multiply_matrix(A, B)\n\u001b[1;32m---> 11\u001b[0m \u001b[38;5;28;01massert\u001b[39;00m C\u001b[38;5;241m.\u001b[39mshape \u001b[38;5;241m==\u001b[39m \u001b[43mC_student\u001b[49m\u001b[38;5;241;43m.\u001b[39;49m\u001b[43mshape\u001b[49m\n\u001b[0;32m     12\u001b[0m \u001b[38;5;28;01massert\u001b[39;00m (C \u001b[38;5;241m==\u001b[39m C_student)\u001b[38;5;241m.\u001b[39mall()\n\u001b[0;32m     13\u001b[0m \u001b[38;5;28mprint\u001b[39m(\u001b[38;5;124m'\u001b[39m\u001b[38;5;124mWorks good!\u001b[39m\u001b[38;5;124m'\u001b[39m)\n",
            "\u001b[1;31mAttributeError\u001b[0m: 'NoneType' object has no attribute 'shape'"
          ]
        }
      ],
      "source": [
        "A = np.array([[1, 4],\n",
        "              [-2, 7],\n",
        "              [8, 3]])\n",
        "\n",
        "B = np.array([[3, 6, -4, 0],\n",
        "              [-1, -9, 3, 2]])\n",
        "\n",
        "C = np.dot(A, B)\n",
        "C_student = multiply_matrix(A, B)\n",
        "\n",
        "assert C.shape == C_student.shape\n",
        "assert (C == C_student).all()\n",
        "print('Works good!')"
      ]
    },
    {
      "cell_type": "markdown",
      "metadata": {
        "id": "MwzPNl6RKiqA"
      },
      "source": [
        "# ZADANIE 4*"
      ]
    },
    {
      "cell_type": "markdown",
      "metadata": {
        "id": "Xsq9q7gdKiqA"
      },
      "source": [
        "Zaimplementuj odwracanie macierzy. Procedura jest nie łatwa i wymyślenie jej samodzielnie może sprawiać trudność, więc w razie problemów można się posiłkować podanym niżej artykułem (choć zachęcam do zastanowienia!)."
      ]
    },
    {
      "cell_type": "markdown",
      "metadata": {
        "id": "JZdB0FnuKiqA"
      },
      "source": [
        "https://pl.wikipedia.org/wiki/Metoda_eliminacji_Gaussa"
      ]
    },
    {
      "cell_type": "code",
      "execution_count": null,
      "metadata": {
        "id": "b_6PqRFXKiqA"
      },
      "outputs": [],
      "source": [
        "def inverse_matrix(m : np.ndarray) -> np.ndarray:\n",
        "    #Ta linijka sprawdza, czy macierz m jest odwracalna\n",
        "    np.linalg.inv(m)\n",
        "\n",
        "    #TODO\n",
        "    pass"
      ]
    },
    {
      "cell_type": "markdown",
      "metadata": {
        "id": "pMTyuSLfKiqA"
      },
      "source": [
        "Test odwracania"
      ]
    },
    {
      "cell_type": "code",
      "execution_count": null,
      "metadata": {
        "id": "xmuE7timKiqA",
        "outputId": "3c63e72a-9d7e-4c55-ffa3-d72bb9a29378"
      },
      "outputs": [
        {
          "name": "stdout",
          "output_type": "stream",
          "text": [
            "[[7 2 1]\n",
            " [0 3 1]\n",
            " [3 4 2]]\n"
          ]
        }
      ],
      "source": [
        "A = np.array([[7, 2, 1],\n",
        "              [0, 3, -1],\n",
        "              [-3, 4, -2]])\n",
        "\n",
        "print(np.abs(A))"
      ]
    },
    {
      "cell_type": "code",
      "execution_count": null,
      "metadata": {
        "id": "SfPuKFOQKiqB"
      },
      "outputs": [],
      "source": [
        "A = np.array([[7, 2, 1],\n",
        "              [0, 3, -1],\n",
        "              [-3, 4, -2]])\n",
        "\n",
        "A_inv = np.linalg.inv(A)\n",
        "A_inv_student = inverse_matrix(A)\n",
        "\n",
        "assert A_inv.shape == A_inv_student.shape\n",
        "assert (np.abs(A_inv - A_inv_student) < 0.001).all()\n",
        "print('Works good!')"
      ]
    }
  ],
  "metadata": {
    "kernelspec": {
      "display_name": "LM",
      "language": "python",
      "name": "python3"
    },
    "language_info": {
      "codemirror_mode": {
        "name": "ipython",
        "version": 3
      },
      "file_extension": ".py",
      "mimetype": "text/x-python",
      "name": "python",
      "nbconvert_exporter": "python",
      "pygments_lexer": "ipython3",
      "version": "3.12.3"
    },
    "colab": {
      "provenance": []
    }
  },
  "nbformat": 4,
  "nbformat_minor": 0
}