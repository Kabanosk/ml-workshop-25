{
 "cells": [
  {
   "cell_type": "markdown",
   "metadata": {
    "id": "gW-daewYajMR"
   },
   "source": [
    "## Zadanie 1\n",
    "Napisz funkcję, która sprawdzi, czy liczba podana jako argument jest parzysta"
   ]
  },
  {
   "cell_type": "code",
   "execution_count": 33,
   "metadata": {
    "id": "fJVwPj-QYpVf"
   },
   "outputs": [],
   "source": [
    "def zadanie1(liczba):\n",
    "  # miejsce na twój kod!\n",
    "  pass\n"
   ]
  },
  {
   "cell_type": "code",
   "execution_count": null,
   "metadata": {
    "id": "zlBJxWVOa77Q"
   },
   "outputs": [],
   "source": [
    "# Odpalając tą komórkę możesz przetestować swoje rozwiązanie :D\n",
    "def test_zadanie1():\n",
    "    assert zadanie1(2) == True\n",
    "    assert zadanie1(3) == False\n",
    "    assert zadanie1(0) == True\n",
    "    assert zadanie1(-2) == True\n",
    "    assert zadanie1(-3) == False\n",
    "    print(\"All test cases passed!\")\n",
    "\n",
    "test_zadanie1()\n"
   ]
  },
  {
   "cell_type": "markdown",
   "metadata": {
    "id": "-nx-aVrUbscd"
   },
   "source": [
    "# Zadanie 2\n",
    "Utwórz listę liczb od 1 do 'n' i następnie stwórz nową listę zawierającą tylko liczby podzielne przez 3, gdzie n jest argumentem funkcji"
   ]
  },
  {
   "cell_type": "code",
   "execution_count": 35,
   "metadata": {
    "id": "EhzbnQYybyuZ"
   },
   "outputs": [],
   "source": [
    "def zadanie2(n):\n",
    "  # miejsce na twój kod\n",
    "  pass\n"
   ]
  },
  {
   "cell_type": "code",
   "execution_count": 38,
   "metadata": {
    "colab": {
     "base_uri": "https://localhost:8080/"
    },
    "id": "2FuW4Q-yb2em",
    "outputId": "ff71c985-c0fc-4b57-856c-517e6a88122a"
   },
   "outputs": [
    {
     "name": "stdout",
     "output_type": "stream",
     "text": [
      "All test cases passed!\n"
     ]
    }
   ],
   "source": [
    "# Odpalając tą komórkę możesz przetestować swoje rozwiązanie :D\n",
    "def test_zadanie2():\n",
    "    assert zadanie2(10) == [3, 6, 9]\n",
    "    assert zadanie2(15) == [3, 6, 9, 12, 15]\n",
    "    assert zadanie2(20) == [3, 6, 9, 12, 15, 18]\n",
    "    print(\"All test cases passed!\")\n",
    "\n",
    "test_zadanie2()"
   ]
  },
  {
   "cell_type": "markdown",
   "metadata": {
    "id": "CvzTUFCSdwm1"
   },
   "source": [
    "# Zadanie 3\n",
    "Korzystając z funkcji map(), zamień listę liczb [1, 2, 3, 4, 5] na ich sześciany."
   ]
  },
  {
   "cell_type": "code",
   "execution_count": null,
   "metadata": {
    "id": "fvY7erTDd0Tp"
   },
   "outputs": [],
   "source": [
    "def zadanie3():\n",
    "  # miejsce na twój kod\n",
    "  pass"
   ]
  },
  {
   "cell_type": "code",
   "execution_count": 30,
   "metadata": {
    "colab": {
     "base_uri": "https://localhost:8080/"
    },
    "id": "iX6nBMHld4jy",
    "outputId": "c756022a-41c0-47be-ae54-8e3dddeca087"
   },
   "outputs": [
    {
     "name": "stdout",
     "output_type": "stream",
     "text": [
      "All test cases passed!\n"
     ]
    }
   ],
   "source": [
    "# Odpalając tą komórkę możesz przetestować swoje rozwiązanie :D\n",
    "def test_zadanie3():\n",
    "    assert zadanie3() == [1, 8, 27, 64, 125]\n",
    "    print(\"All test cases passed!\")\n",
    "\n",
    "test_zadanie3()"
   ]
  },
  {
   "cell_type": "markdown",
   "metadata": {
    "id": "VOXAZuEpel28"
   },
   "source": [
    "# Zadanie 4\n",
    "Użyj pętli for, aby znaleźć sumę liczb od 1 do 100\n"
   ]
  },
  {
   "cell_type": "code",
   "execution_count": null,
   "metadata": {
    "id": "aTqu5rbweq54"
   },
   "outputs": [],
   "source": [
    "def zadanie4():\n",
    "  # miejsce na twój kod\n",
    "  pass"
   ]
  },
  {
   "cell_type": "code",
   "execution_count": 41,
   "metadata": {
    "colab": {
     "base_uri": "https://localhost:8080/"
    },
    "id": "6HQZyW3MevDa",
    "outputId": "324b2f0f-eba3-4447-bb68-f703d9947944"
   },
   "outputs": [
    {
     "name": "stdout",
     "output_type": "stream",
     "text": [
      "All test cases passed!\n"
     ]
    }
   ],
   "source": [
    "# Odpalając tą komórkę możesz przetestować swoje rozwiązanie :D\n",
    "def test_zadanie4():\n",
    "  assert(zadanie4() == 5050)\n",
    "  print(\"All test cases passed!\")\n",
    "\n",
    "test_zadanie4()"
   ]
  },
  {
   "cell_type": "markdown",
   "metadata": {
    "id": "xOZ-02qzfD25"
   },
   "source": [
    "# Zadanie 5\n",
    "Stwórz słownik w którym klucze są liczby od 1 do 5, a wartości to ich kwadraty."
   ]
  },
  {
   "cell_type": "code",
   "execution_count": 46,
   "metadata": {
    "id": "XNL5je0vfLfc"
   },
   "outputs": [],
   "source": [
    "def zadanie5():\n",
    "  # miejsce na twój kod\n",
    "  pass"
   ]
  },
  {
   "cell_type": "code",
   "execution_count": 45,
   "metadata": {
    "id": "WLhQ2HoPfNjz"
   },
   "outputs": [],
   "source": [
    "# Odpalając tą komórkę możesz przetestować swoje rozwiązanie :D\n",
    "def test_zadanie5():\n",
    "  assert(zadanie5() == {1: 1, 2: 4, 3: 9, 4: 16, 5: 25})\n",
    "  print(\"All test cases passed!\")"
   ]
  }
 ],
 "metadata": {
  "colab": {
   "provenance": []
  },
  "kernelspec": {
   "display_name": "Python 3 (ipykernel)",
   "language": "python",
   "name": "python3"
  },
  "language_info": {
   "codemirror_mode": {
    "name": "ipython",
    "version": 3
   },
   "file_extension": ".py",
   "mimetype": "text/x-python",
   "name": "python",
   "nbconvert_exporter": "python",
   "pygments_lexer": "ipython3",
   "version": "3.11.2"
  }
 },
 "nbformat": 4,
 "nbformat_minor": 4
}
