{
  "nbformat": 4,
  "nbformat_minor": 0,
  "metadata": {
    "colab": {
      "provenance": []
    },
    "kernelspec": {
      "name": "python3",
      "display_name": "Python 3"
    },
    "language_info": {
      "name": "python"
    }
  },
  "cells": [
    {
      "cell_type": "markdown",
      "source": [
        "## Zadanie 1\n",
        "Napisz funkcję, która sprawdzi, czy liczba podana jako argument jest parzysta"
      ],
      "metadata": {
        "id": "gW-daewYajMR"
      }
    },
    {
      "cell_type": "code",
      "execution_count": 33,
      "metadata": {
        "id": "fJVwPj-QYpVf"
      },
      "outputs": [],
      "source": [
        "def zadanie1(liczba):\n",
        "  # miejsce na twój kod!\n",
        "  pass\n"
      ]
    },
    {
      "cell_type": "code",
      "source": [
        "# Odpalając tą komórkę możesz przetestować swoje rozwiązanie :D\n",
        "def test_zadanie1():\n",
        "    assert zadanie1(2) == True\n",
        "    assert zadanie1(3) == False\n",
        "    assert zadanie1(0) == True\n",
        "    assert zadanie1(-2) == True\n",
        "    assert zadanie1(-3) == False\n",
        "    print(\"All test cases passed!\")\n",
        "\n",
        "test_zadanie1()\n"
      ],
      "metadata": {
        "id": "zlBJxWVOa77Q"
      },
      "execution_count": null,
      "outputs": []
    },
    {
      "cell_type": "markdown",
      "source": [
        "Poniżej wzorcowe rozwiązanie zadania 1"
      ],
      "metadata": {
        "id": "JL9L-J8sbf7j"
      }
    },
    {
      "cell_type": "code",
      "source": [
        "# @title\n",
        "def zadanie1(liczba):\n",
        "    return liczba % 2 == 0"
      ],
      "metadata": {
        "cellView": "form",
        "id": "q4dJ1FoqbSiU"
      },
      "execution_count": 31,
      "outputs": []
    },
    {
      "cell_type": "markdown",
      "source": [
        "# Zadanie 2\n",
        "Utwórz listę liczb od 1 do 'n' i następnie stwórz nową listę zawierającą tylko liczby podzielne przez 3, gdzie n jest argumentem funkcji"
      ],
      "metadata": {
        "id": "-nx-aVrUbscd"
      }
    },
    {
      "cell_type": "code",
      "source": [
        "def zadanie2(n):\n",
        "  # miejsce na twój kod\n",
        "  pass\n"
      ],
      "metadata": {
        "id": "EhzbnQYybyuZ"
      },
      "execution_count": 35,
      "outputs": []
    },
    {
      "cell_type": "code",
      "source": [
        "# Odpalając tą komórkę możesz przetestować swoje rozwiązanie :D\n",
        "def test_zadanie2():\n",
        "    assert zadanie2(10) == [3, 6, 9]\n",
        "    assert zadanie2(15) == [3, 6, 9, 12, 15]\n",
        "    assert zadanie2(20) == [3, 6, 9, 12, 15, 18]\n",
        "    print(\"All test cases passed!\")\n",
        "\n",
        "test_zadanie2()"
      ],
      "metadata": {
        "colab": {
          "base_uri": "https://localhost:8080/"
        },
        "id": "2FuW4Q-yb2em",
        "outputId": "ff71c985-c0fc-4b57-856c-517e6a88122a"
      },
      "execution_count": 38,
      "outputs": [
        {
          "output_type": "stream",
          "name": "stdout",
          "text": [
            "All test cases passed!\n"
          ]
        }
      ]
    },
    {
      "cell_type": "markdown",
      "source": [
        "Poniżej wzorcowe rozwiązanie zadania 2"
      ],
      "metadata": {
        "id": "jj_4jD52dC14"
      }
    },
    {
      "cell_type": "code",
      "source": [
        "# @title\n",
        "def zadanie2(n):\n",
        "  wynikowa_lista = []\n",
        "  for x in range(1, n+1):\n",
        "    if x % 3 == 0:\n",
        "      wynikowa_lista.append(x)\n",
        "  return wynikowa_lista\n",
        "\n",
        "def zadanie2_fancy(n):\n",
        "  return [x for x in range(1, n+1) if x % 3 == 0]"
      ],
      "metadata": {
        "cellView": "form",
        "id": "wOOEY_KzcL2d"
      },
      "execution_count": 37,
      "outputs": []
    },
    {
      "cell_type": "markdown",
      "source": [
        "# Zadanie 3\n",
        "Korzystając z funkcji map(), zamień listę liczb [1, 2, 3, 4, 5] na ich sześciany."
      ],
      "metadata": {
        "id": "CvzTUFCSdwm1"
      }
    },
    {
      "cell_type": "code",
      "source": [
        "def zadanie3():\n",
        "  # miejsce na twój kod\n",
        "  pass"
      ],
      "metadata": {
        "id": "fvY7erTDd0Tp"
      },
      "execution_count": null,
      "outputs": []
    },
    {
      "cell_type": "code",
      "source": [
        "# Odpalając tą komórkę możesz przetestować swoje rozwiązanie :D\n",
        "def test_zadanie3():\n",
        "    assert zadanie3() == [1, 8, 27, 64, 125]\n",
        "    print(\"All test cases passed!\")\n",
        "\n",
        "test_zadanie3()"
      ],
      "metadata": {
        "colab": {
          "base_uri": "https://localhost:8080/"
        },
        "id": "iX6nBMHld4jy",
        "outputId": "c756022a-41c0-47be-ae54-8e3dddeca087"
      },
      "execution_count": 30,
      "outputs": [
        {
          "output_type": "stream",
          "name": "stdout",
          "text": [
            "All test cases passed!\n"
          ]
        }
      ]
    },
    {
      "cell_type": "markdown",
      "source": [
        "Poniżej wzorcowe rozwiązanie zadania 3"
      ],
      "metadata": {
        "id": "YTFiTSPeeAJF"
      }
    },
    {
      "cell_type": "code",
      "source": [
        "# @title\n",
        "def zadanie3():\n",
        "  lista = [1,2,3,4,5]\n",
        "  return list(map(lambda x: x**3 ,lista))"
      ],
      "metadata": {
        "cellView": "form",
        "id": "6kEQyYkhd7JE"
      },
      "execution_count": 29,
      "outputs": []
    },
    {
      "cell_type": "markdown",
      "source": [
        "# Zadanie 4\n",
        "Użyj pętli for, aby znaleźć sumę liczb od 1 do 100\n"
      ],
      "metadata": {
        "id": "VOXAZuEpel28"
      }
    },
    {
      "cell_type": "code",
      "source": [
        "def zadanie4():\n",
        "  # miejsce na twój kod\n",
        "  pass"
      ],
      "metadata": {
        "id": "aTqu5rbweq54"
      },
      "execution_count": null,
      "outputs": []
    },
    {
      "cell_type": "code",
      "source": [
        "# Odpalając tą komórkę możesz przetestować swoje rozwiązanie :D\n",
        "def test_zadanie4():\n",
        "  assert(zadanie4() == 5050)\n",
        "  print(\"All test cases passed!\")\n",
        "\n",
        "test_zadanie4()"
      ],
      "metadata": {
        "colab": {
          "base_uri": "https://localhost:8080/"
        },
        "id": "6HQZyW3MevDa",
        "outputId": "324b2f0f-eba3-4447-bb68-f703d9947944"
      },
      "execution_count": 41,
      "outputs": [
        {
          "output_type": "stream",
          "name": "stdout",
          "text": [
            "All test cases passed!\n"
          ]
        }
      ]
    },
    {
      "cell_type": "markdown",
      "source": [
        "Poniżej wzorcowe rozwiązanie zadania 4"
      ],
      "metadata": {
        "id": "u5eTU4_4e1uc"
      }
    },
    {
      "cell_type": "code",
      "source": [
        "# @title\n",
        "def zadanie4():\n",
        "  ans = 0\n",
        "  for i in range(1,101):\n",
        "    ans += i\n",
        "  return ans"
      ],
      "metadata": {
        "cellView": "form",
        "id": "VaxceFvie4Od"
      },
      "execution_count": 40,
      "outputs": []
    },
    {
      "cell_type": "markdown",
      "source": [
        "# Zadanie 5\n",
        "Stwórz słownik w którym klucze są liczby od 1 do 5, a wartości to ich kwadraty."
      ],
      "metadata": {
        "id": "xOZ-02qzfD25"
      }
    },
    {
      "cell_type": "code",
      "source": [
        "def zadanie5():\n",
        "  # miejsce na twój kod\n",
        "  pass"
      ],
      "metadata": {
        "id": "XNL5je0vfLfc"
      },
      "execution_count": 46,
      "outputs": []
    },
    {
      "cell_type": "code",
      "source": [
        "# Odpalając tą komórkę możesz przetestować swoje rozwiązanie :D\n",
        "def test_zadanie5():\n",
        "  assert(zadanie5() == {1: 1, 2: 4, 3: 9, 4: 16, 5: 25})\n",
        "  print(\"All test cases passed!\")"
      ],
      "metadata": {
        "id": "WLhQ2HoPfNjz"
      },
      "execution_count": 45,
      "outputs": []
    },
    {
      "cell_type": "markdown",
      "source": [
        "Poniżej wzorcowe rozwiązanie zadania 5"
      ],
      "metadata": {
        "id": "hHMjWEW9fUJb"
      }
    },
    {
      "cell_type": "code",
      "source": [
        "# @title\n",
        "def zadanie5():\n",
        "  dict_test = {}\n",
        "  for i in range(1,6):\n",
        "    dict_test[i] = i**2\n",
        "  return dict_test"
      ],
      "metadata": {
        "cellView": "form",
        "id": "mP-6RTxKfShu"
      },
      "execution_count": 44,
      "outputs": []
    }
  ]
}