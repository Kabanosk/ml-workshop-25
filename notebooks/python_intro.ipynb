{
  "nbformat": 4,
  "nbformat_minor": 0,
  "metadata": {
    "colab": {
      "provenance": []
    },
    "kernelspec": {
      "name": "python3",
      "display_name": "Python 3"
    },
    "language_info": {
      "name": "python"
    }
  },
  "cells": [
    {
      "cell_type": "markdown",
      "source": [
        "# Cel wykładu\n",
        "Podczas tego wykładu zrobimy krótki wstęp do programowania w Pythonie.\n",
        "- deklarowanie zmiennych i typy danych\n",
        "- instrukcje warunkowe\n",
        "- pętle\n",
        "- funkcje\n",
        "- listy i operacje na nich\n",
        "- operacje na plikach\n",
        "- importowanie bibliotek\n",
        "\n",
        "## Ważne\n",
        "Traktujcie ten notebook jako ściągawkę dla siebie. Nauczenie się pisania w Pythonie to nie jest chwila moment i nawet na studiach poświęca się na to cały semestr, a i tak uczy się tego języka całe życie. Pamiętajcie też, że jesteśmy do waszej dyspozycji i nie bójcie się pytać!"
      ],
      "metadata": {
        "id": "GM5NI2Rh4DvY"
      }
    },
    {
      "cell_type": "markdown",
      "source": [
        "# Deklarowanie zmiennych i typy danych\n",
        "\n",
        "To zacznijmy od początku. Chcemy umieć przechowywać jakieś informacje w naszych kodach i najlepiej mieć je pod jakimiś sensownymi nazwami. To jak to zrobić w pythonie?"
      ],
      "metadata": {
        "id": "351ku3OJ5YXN"
      }
    },
    {
      "cell_type": "code",
      "source": [
        "# Przechowywanie liczb\n",
        "x = 10  # Liczba całkowita\n",
        "pi = 3.14  # Liczba zmiennoprzecinkowa\n",
        "\n",
        "print(f\"x: {x}\")\n",
        "print(f\"pi: {pi}\\n\")\n",
        "\n",
        "# Przechowywanie znaków\n",
        "znak = 'S' # Pojedyńczy znak\n",
        "napis = \"Witaj w Pythonie!\" # Ciąg znaków (string), zauważ, że różnią się ' vs \"\n",
        "\n",
        "print(f\"znak: {znak}\")\n",
        "print(f\"napis: {napis}\\n\")\n",
        "\n",
        "# Przechowywanie kolekcji\n",
        "lista = [1, 2, 3, 4] # Lista elementów\n",
        "krotka = (1, 2, 3, 4) # Krotka elementów\n",
        "\n",
        "print(f\"lista: {lista}\")\n",
        "print(f\"krotka: {krotka}\\n\")\n",
        "\n",
        "print(f\"pierwszy element listy: {lista[0]}\")\n",
        "print(f\"drugi element krotki: {krotka[1]}\\n\")\n",
        "\n",
        "slownik = {\"klucz\": \"wartość\", \"wiek\": 18}  # Słownik\n",
        "\n",
        "print(f\"slownik: {slownik}\")\n",
        "print(f\"wartość dla klucza 'klucz': {slownik['klucz']}\")\n",
        "print(f\"wartość dla klucza 'wiek': {slownik['wiek']}\")\n",
        "\n"
      ],
      "metadata": {
        "colab": {
          "base_uri": "https://localhost:8080/"
        },
        "id": "KAlLGEk_5dh_",
        "outputId": "ae4a0f91-cf54-45e1-b794-28cdb8ff44f6"
      },
      "execution_count": 12,
      "outputs": [
        {
          "output_type": "stream",
          "name": "stdout",
          "text": [
            "x: 10\n",
            "pi: 3.14\n",
            "\n",
            "znak: S\n",
            "napis: Witaj w Pythonie!\n",
            "\n",
            "lista: [1, 2, 3, 4]\n",
            "krotka: (1, 2, 3, 4)\n",
            "\n",
            "pierwszy element listy: 1\n",
            "drugi element krotki: 2\n",
            "\n",
            "slownik: {'klucz': 'wartość', 'wiek': 18}\n",
            "wartość dla klucza 'klucz': wartość\n",
            "wartość dla klucza 'wiek': 18\n"
          ]
        }
      ]
    },
    {
      "cell_type": "markdown",
      "source": [
        "I teraz krótko o typach danych. W pythonie znajduje się ich całkiem sporawo ale rozważymy tylko te takie najbardziej podstawowe:\n",
        "- int - liczby całkowite\n",
        "- float - liczby zmiennoprzecinkowe\n",
        "- str - stringi (ciągi znaków)\n",
        "- list - listy elementów\n",
        "- tuple - krotki elementów\n",
        "- dict - słowniki elementów\n"
      ],
      "metadata": {
        "id": "FMiKEKUr7fpG"
      }
    },
    {
      "cell_type": "code",
      "execution_count": null,
      "metadata": {
        "colab": {
          "base_uri": "https://localhost:8080/"
        },
        "id": "HhNGU-eO34OQ",
        "outputId": "9a4b73f0-8e20-4a50-8d98-5d6fd9baa7bd"
      },
      "outputs": [
        {
          "output_type": "stream",
          "name": "stdout",
          "text": [
            "<class 'int'>\n",
            "<class 'float'>\n",
            "<class 'str'>\n",
            "<class 'list'>\n",
            "<class 'tuple'>\n",
            "<class 'dict'>\n"
          ]
        }
      ],
      "source": [
        "# Sprawdzanie typu zmiennej\n",
        "print(type(x))  # int\n",
        "print(type(pi))  # float\n",
        "print(type(napis))  # str\n",
        "print(type(lista))  # list\n",
        "print(type(krotka)) # tuple\n",
        "print(type(slownik))  # dict"
      ]
    },
    {
      "cell_type": "markdown",
      "source": [
        "# Podstawowe operacje na zmiennych\n",
        "No dobrze, mamy już zmienne, ale co możemy z nimi zrobić? Możemy je dodawać, mnożyć, sprawdzać ich długość i wiele więcej. Oto kilka podstawowych operacji."
      ],
      "metadata": {
        "id": "QPq1asmo-Tac"
      }
    },
    {
      "cell_type": "code",
      "source": [
        "a = 2\n",
        "b = 3\n",
        "\n",
        "# operacje na liczbach\n",
        "x = a + b # dodawanie\n",
        "y = a * b # mnożenie\n",
        "z = a ** 2 # potęgowanie (tutaj podnosimy a do potęgi 2) WAŻNE potęgowanie to nie jest a^2\n",
        "\n",
        "\n",
        "print(f\"{x=}\")\n",
        "print(f\"{y=}\")\n",
        "print(f\"{z=}\\n\")\n",
        "\n",
        "napis = \"testowy napis\"\n",
        "dlugosc_napisu = len(napis) # funkcja len(), do zwrócenia długości string'a\n",
        "\n",
        "print(f\"{dlugosc_napisu=}\")\n",
        "\n"
      ],
      "metadata": {
        "colab": {
          "base_uri": "https://localhost:8080/"
        },
        "id": "YUZmVFOt-S8l",
        "outputId": "451f141f-1ea4-49bb-eaf9-1383cd4e93a5"
      },
      "execution_count": 14,
      "outputs": [
        {
          "output_type": "stream",
          "name": "stdout",
          "text": [
            "x=5\n",
            "y=6\n",
            "z=4\n",
            "\n",
            "dlugosc_napisu=13\n"
          ]
        }
      ]
    },
    {
      "cell_type": "markdown",
      "source": [
        "#Instrukcje warunkowe IF\n",
        "\n",
        "Czasem chcemy, aby program reagował na różne sytuacje. Możemy do tego użyć instrukcji warunkowych `if`, `elif`, `else`.\n",
        "\n",
        "```python\n",
        "if \"warunek_1\":\n",
        "  jeśli \"warunek_1\" jest prawdą\n",
        "else if \"warunek_2\":\n",
        "  jeśli \"warunek_1\" jest fałszem oraz \"warunek_2\" jest prawdą\n",
        "else:\n",
        "  jeśli \"warunek_2\" oraz \"warunek_1\" jest fałszem\n",
        "```\n",
        "Przyjrzymy się przykładowi poniżej\n"
      ],
      "metadata": {
        "id": "VRoOWVAU8027"
      }
    },
    {
      "cell_type": "code",
      "source": [
        "liczba = 7\n",
        "if liczba > 5:\n",
        "    print(\"Większe niż 5\")\n",
        "elif liczba == 5:\n",
        "    print(\"Równe 5\")\n",
        "else:\n",
        "    print(\"Mniejsze niż 5\")\n"
      ],
      "metadata": {
        "colab": {
          "base_uri": "https://localhost:8080/"
        },
        "id": "hJipHbkN9K_o",
        "outputId": "267828f6-c563-4d4b-af5c-162edff27e66"
      },
      "execution_count": null,
      "outputs": [
        {
          "output_type": "stream",
          "name": "stdout",
          "text": [
            "Większe niż 5\n"
          ]
        }
      ]
    },
    {
      "cell_type": "markdown",
      "source": [
        "#Listy i operacje na nich\n",
        "Listy pozwalają przechowywać wiele wartości naraz i łatwo nimi operować. Oto przykładowe operacje."
      ],
      "metadata": {
        "id": "LrANlcPh-f3y"
      }
    },
    {
      "cell_type": "code",
      "source": [
        "przykladowa_lista = [1,2,3,4]\n",
        "\n",
        "# Dodawanie do listy, sprawdzanie i'tego elementu\n",
        "przykladowa_lista.append(5) # append dodaje do listy\n",
        "print(f\"{przykladowa_lista=}\")\n",
        "print(f\"pierwszy element listy: {przykladowa_lista[0]}\") # warto dodać że numerujemy listę od 0\n",
        "print(f\"drugi element listy: {przykladowa_lista[1]}\\n\")\n",
        "\n",
        "# List comprehensions -> czyli jak robić operacje wewnątrz listy\n",
        "kwadraty_ls = [x**2 for x in przykladowa_lista]\n",
        "print(f\"{kwadraty_ls=}\\n\")\n",
        "\n",
        "# Funkcje map, filter\n",
        "kwadraty_map = list(map(lambda x: x**2, przykladowa_lista))  # Podnosi każdą liczbę do kwadratu\n",
        "parzyste = list(filter(lambda x: x % 2 == 0, przykladowa_lista))  # Filtruje liczby parzyste\n",
        "print(f\"{kwadraty_map=}\")\n",
        "print(f\"{parzyste=}\\n\")\n",
        "\n",
        "#Funkcja range\n",
        "liczby_od_1_do_10 = list(range(1, 11)) #funkcja range(a,b) generuje przedział od a do b i możemy na to nałożyć list, by otrzymać listę :D\n",
        "print(f\"{liczby_od_1_do_10=}\")"
      ],
      "metadata": {
        "id": "-iOGV0Yw-tC4",
        "colab": {
          "base_uri": "https://localhost:8080/"
        },
        "outputId": "9c3932ed-6593-4a69-a483-7996382aceee"
      },
      "execution_count": 15,
      "outputs": [
        {
          "output_type": "stream",
          "name": "stdout",
          "text": [
            "przykladowa_lista=[1, 2, 3, 4, 5]\n",
            "pierwszy element listy: 1\n",
            "\n",
            "drugi element listy: 2\n",
            "\n",
            "kwadraty_ls=[1, 4, 9, 16, 25]\n",
            "\n",
            "kwadraty_map=[1, 4, 9, 16, 25]\n",
            "parzyste=[2, 4]\n",
            "\n",
            "liczby_od_1_do_10=[1, 2, 3, 4, 5, 6, 7, 8, 9, 10]\n"
          ]
        }
      ]
    },
    {
      "cell_type": "markdown",
      "source": [
        "# Pętle\n",
        "Często musimy wykonać jakąś operację wielokrotnie. Możemy użyć do tego pętli `for` lub `while`.\n"
      ],
      "metadata": {
        "id": "NegfBVU095_L"
      }
    },
    {
      "cell_type": "code",
      "source": [
        "# Pętla for\n",
        "for i in range(5): # możemy sobie tłumaczyć to jako, Dla 'i' znajdującego się w RANGE(5): wypisz 'i'\n",
        "    print(\"Iteracja:\", i)\n",
        "\n",
        "print()\n",
        "\n",
        "# Pętla while\n",
        "n = 0\n",
        "while n < 3: # dopóki n < 3 wypisz 'n' i na koniec zwiększ 'n' o 1\n",
        "    print(\"n =\", n)\n",
        "    n += 1"
      ],
      "metadata": {
        "id": "TpsiBfU8-IDB",
        "colab": {
          "base_uri": "https://localhost:8080/"
        },
        "outputId": "b527e091-61b3-4fc9-a40b-3fd809e7073e"
      },
      "execution_count": 9,
      "outputs": [
        {
          "output_type": "stream",
          "name": "stdout",
          "text": [
            "Iteracja: 0\n",
            "Iteracja: 1\n",
            "Iteracja: 2\n",
            "Iteracja: 3\n",
            "Iteracja: 4\n",
            "\n",
            "n = 0\n",
            "n = 1\n",
            "n = 2\n"
          ]
        }
      ]
    },
    {
      "cell_type": "markdown",
      "source": [
        "# Funkcje\n",
        "\n",
        "Zamiast powtarzać kod, możemy wydzielić go do funkcji, którą potem **łatwo** wywołać.\n",
        "\n",
        "w Pythonie funkcję definiujemy w następujący sposób\n",
        "\n",
        "\n",
        "```python\n",
        "def <nazwa>(<argumenty>):\n",
        "  <kod>\n",
        "```\n",
        "i tak nazwa jest po to, że jak chcemy wywołać tą funkcję gdzieś dalej to po jakiej nazwie. Argumenty to będą zmienne jakie chcemy podać do funkcji. Kod to już jest co tam będziemy robić w środku\n",
        "\n",
        "\n"
      ],
      "metadata": {
        "id": "4zY04l_8-KZE"
      }
    },
    {
      "cell_type": "code",
      "source": [
        "# Definiowanie funkcji\n",
        "def dodaj(a, b): # przykładowa funkcja, która dostaje 2 argumenty (a,b) i jej zadaniem jest je dodać\n",
        "    return a + b\n",
        "\n",
        "wynik = dodaj(3, 4)\n",
        "print(\"Wynik dodawania:\", wynik)\n"
      ],
      "metadata": {
        "colab": {
          "base_uri": "https://localhost:8080/"
        },
        "id": "ZaviNlsc-QLv",
        "outputId": "f96f6280-6b3d-4360-d01a-2f92c077d7d1"
      },
      "execution_count": null,
      "outputs": [
        {
          "output_type": "stream",
          "name": "stdout",
          "text": [
            "Wynik dodawania: 7\n"
          ]
        }
      ]
    },
    {
      "cell_type": "markdown",
      "source": [
        "#Pliki, i operacje na nich\n",
        "\n",
        "Czasem chcemy zapisać coś na dysk lub odczytać dane z pliku.\n",
        "\n"
      ],
      "metadata": {
        "id": "5-CoxfYO-2HZ"
      }
    },
    {
      "cell_type": "code",
      "source": [
        "with open(\"plik.txt\", \"w\") as f: # otwieramy plik w trybie \"w\" - skrót od \"write\" czyli zapis.\n",
        "    f.write(\"To jest testowy plik.\")  # zapisujemy do pliku funkcją \"write()\" wymagany tekst\n",
        "\n",
        "with open(\"plik.txt\", \"r\") as f: # otwieramy plik w trybie \"r\" - skrót od \"read\" czyli odczyt\n",
        "    zawartosc = f.read()  # możemy odczytać go funkcją \"read()\" i np później wypisać\n",
        "    print(zawartosc)"
      ],
      "metadata": {
        "colab": {
          "base_uri": "https://localhost:8080/"
        },
        "id": "9WclkMWv-73p",
        "outputId": "0fa6dde9-580a-4213-f707-0df3c0ee7fe7"
      },
      "execution_count": 10,
      "outputs": [
        {
          "output_type": "stream",
          "name": "stdout",
          "text": [
            "To jest testowy plik.\n"
          ]
        }
      ]
    },
    {
      "cell_type": "markdown",
      "source": [
        "# Importowanie bibliotek\n",
        "\n",
        "Python ma mnóstwo świetnych bibliotek, które pomagają w różnych zadaniach. Możemy je łatwo zaimportować.\n"
      ],
      "metadata": {
        "id": "he8VR8ZB--xP"
      }
    },
    {
      "cell_type": "code",
      "source": [
        "import math # biblioteka związana z matematyką\n",
        "print(math.sqrt(16))  # Pierwiastek kwadratowy wzięty z tej biblioteki"
      ],
      "metadata": {
        "colab": {
          "base_uri": "https://localhost:8080/"
        },
        "id": "M63zjnZ2_CDj",
        "outputId": "32e416a8-ae9e-41d0-ce16-ae290de89c95"
      },
      "execution_count": 11,
      "outputs": [
        {
          "output_type": "stream",
          "name": "stdout",
          "text": [
            "4.0\n"
          ]
        }
      ]
    }
  ]
}