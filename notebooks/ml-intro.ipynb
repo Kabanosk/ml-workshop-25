{
 "cells": [
  {
   "cell_type": "markdown",
   "id": "cea5f5d7-9452-4b0d-9e5d-0bce115ad8ac",
   "metadata": {},
   "source": [
    "# Cel wykładu\n",
    "Podczas tego wykładu nauczymy się super narzędzi, których zrozumienie pomoże nam ogarniać rzeczy dziejące się na tym wykładzie:\n",
    "- różne operacje z użyciem biblioteki `numpy`\n",
    "- robienie wykresów za pomocą narzędzia `matplotlib`\n",
    "- wczytywanie danych i ich wstępna analiza za pomocą biblioteki `pandas`\n",
    "\n",
    "### Ważne\n",
    "Te rzeczy nie są do nauczenia się w tydzień. Uczymy ich się cały czas i nawet mistrzowie mają z tym czasem problemy, bo czegoś nie pamiętają "
   ]
  },
  {
   "cell_type": "markdown",
   "id": "edca6e93-2b1e-4c7c-becf-5f9503ab142c",
   "metadata": {},
   "source": [
    "# Co to jest analiza danych?"
   ]
  },
  {
   "cell_type": "markdown",
   "id": "728beb47-eb9f-48e2-9d93-31d137a095f9",
   "metadata": {},
   "source": [
    "Czy kiedykolwiek zastanawialiście się jak Netflix poleca wam filmy, a Spotify utwory? Jak Żabka czy Biedronka polecają wam produkty do kupienia? (Pytanie do publiczności)\n",
    "\n",
    "Dzisiaj nauczymy się narzędzi, które pozwalają wam robić takie rzeczy B)"
   ]
  },
  {
   "cell_type": "markdown",
   "id": "138efe8f-b26f-4e15-a846-9ef21c1ecde0",
   "metadata": {},
   "source": [
    "# Numpy, czyli jak szybko liczyć"
   ]
  },
  {
   "cell_type": "markdown",
   "id": "f286f1c2-ff2f-4a8e-8aaf-821aa4823596",
   "metadata": {},
   "source": [
    "Najpierw nauczymy się pracować z liczbami. Python ma świetną bibliotekę numpy, która pozwala wykonywać obliczenia na dużych zbiorach danych w ułamku sekundy."
   ]
  },
  {
   "cell_type": "code",
   "execution_count": 1,
   "id": "37460dde-3da8-42d4-a284-c09544207359",
   "metadata": {},
   "outputs": [],
   "source": [
    "# Importujemy numpy stosując `as np`, jako skrót żeby można było wszędzie pisać `np.`\n",
    "import numpy as np"
   ]
  },
  {
   "cell_type": "code",
   "execution_count": 8,
   "id": "be3f9d3a-c7ea-41ec-8ca5-50ad8f4132e7",
   "metadata": {},
   "outputs": [
    {
     "data": {
      "text/plain": [
       "(array([160, 165, 170, 175, 180, 185]), [160, 165, 170, 175, 180, 185])"
      ]
     },
     "execution_count": 8,
     "metadata": {},
     "output_type": "execute_result"
    }
   ],
   "source": [
    "# Tworzymy tablicę z danymi o wzroście (w cm)\n",
    "w = [160, 165, 170, 175, 180, 185]\n",
    "wzrosty = np.array(w)\n",
    "wzrosty, w"
   ]
  },
  {
   "cell_type": "code",
   "execution_count": 9,
   "id": "f28ad7b0-62c4-4dac-9e1d-6345bc418ab9",
   "metadata": {},
   "outputs": [
    {
     "name": "stdout",
     "output_type": "stream",
     "text": [
      "Średni wzrost: 172.5\n",
      "Mediana wzrostu: 172.5\n",
      "Najniższy wzrost: 160\n",
      "Najwyższy wzrost: 185\n"
     ]
    }
   ],
   "source": [
    "# I wypisujemy potrzebne dla nas informacje\n",
    "print(\"Średni wzrost:\", np.mean(wzrosty))\n",
    "print(\"Mediana wzrostu:\", np.median(wzrosty))\n",
    "print(\"Najniższy wzrost:\", np.min(wzrosty))\n",
    "print(\"Najwyższy wzrost:\", np.max(wzrosty))"
   ]
  },
  {
   "cell_type": "markdown",
   "id": "0b538df7-ee31-47d4-a863-92a6021782e9",
   "metadata": {},
   "source": [
    "## Generowanie losowych danych"
   ]
  },
  {
   "cell_type": "markdown",
   "id": "ec092e77-a706-4c41-951d-d1c06bdbad87",
   "metadata": {},
   "source": [
    "Czasem może być przydatne dla was generowanie danych losowych"
   ]
  },
  {
   "cell_type": "code",
   "execution_count": 13,
   "id": "75c2e387-3348-41a1-8d81-20580bbe2946",
   "metadata": {},
   "outputs": [
    {
     "name": "stdout",
     "output_type": "stream",
     "text": [
      "Losowe liczba całkowita od 0 do 10: 9\n",
      "Losowe 5 liczb całkowitych od 0 do 10: [4 7 1 1 7]\n",
      "\n",
      "Losowe liczba rzeczywiste od 0 do 1: 0.6086892146957649\n",
      "Losowe 5 liczb rzeczywistych od 0 do 1: [0.34043861 0.27341643 0.42077472 0.06624428 0.47384131]\n",
      "\n",
      "Losowe liczba ze zbioru `z`: 2\n"
     ]
    }
   ],
   "source": [
    "# Wygeneruj losowe liczby całkowite od 0 do 10\n",
    "print(f\"Losowe liczba całkowita od 0 do 10: {np.random.randint(0, 10)}\")\n",
    "print(f\"Losowe 5 liczb całkowitych od 0 do 10: {np.random.randint(0, 10, (5,))}\\n\")\n",
    "\n",
    "# Wygeneruj losowe liczby rzeczywiste od 0 do 1\n",
    "print(f\"Losowe liczba rzeczywiste od 0 do 1: {np.random.rand()}\")\n",
    "print(f\"Losowe 5 liczb rzeczywistych od 0 do 1: {np.random.rand(5)}\\n\")\n",
    "\n",
    "# Weź losową wartość ze zbioru\n",
    "z = [1,2,8,10,15]\n",
    "print(f\"Losowe liczba ze zbioru `z`: {np.random.choice(z)}\")"
   ]
  },
  {
   "cell_type": "markdown",
   "id": "7d245922-d65f-4024-b831-0e135b10de40",
   "metadata": {},
   "source": [
    "# Wczytywanie zapisanych danych używając `pandas`"
   ]
  },
  {
   "cell_type": "markdown",
   "id": "14152ae5-29af-4e6c-b866-23dd88b99f6f",
   "metadata": {},
   "source": [
    "Pandas to narzędzie do pracy z danymi w Pythonie, które działa jak arkusz kalkulacyjny – pozwala łatwo filtrować, sortować i analizować dane"
   ]
  },
  {
   "cell_type": "markdown",
   "id": "d4b51af2-e026-41a6-aa26-9208273018ac",
   "metadata": {},
   "source": [
    "## Robimy pierwszą tabelkę!"
   ]
  },
  {
   "cell_type": "code",
   "execution_count": 2,
   "id": "b3b1cd4b-b101-4ece-becd-a183cabc126c",
   "metadata": {},
   "outputs": [
    {
     "name": "stdout",
     "output_type": "stream",
     "text": [
      "     Imię  Wzrost  Waga\n",
      "0    Ania     160    55\n",
      "1  Bartek     175    70\n",
      "2  Celina     168    60\n",
      "3  Daniel     180    80\n",
      "4   Hania     173    62\n"
     ]
    }
   ],
   "source": [
    "import pandas as pd\n",
    "\n",
    "dane = {\n",
    "    \"Imię\": [\"Ania\", \"Bartek\", \"Celina\", \"Daniel\", \"Hania\"],\n",
    "    \"Wzrost\": [160, 175, 168, 180, 173],\n",
    "    \"Waga\": [55, 70, 60, 80, 62]\n",
    "}\n",
    "\n",
    "df = pd.DataFrame(dane)\n",
    "print(df)  # Wyświetlenie tabeli"
   ]
  },
  {
   "cell_type": "markdown",
   "id": "80a18260-878c-4504-a412-3e4949adeaf0",
   "metadata": {},
   "source": [
    "## Podstawowe operacje"
   ]
  },
  {
   "cell_type": "markdown",
   "id": "716bd202-fb34-4c3c-940e-d3bbf16d4d17",
   "metadata": {},
   "source": [
    "### Podstawowe statystyki"
   ]
  },
  {
   "cell_type": "code",
   "execution_count": 3,
   "id": "2c033c73-0f87-44fd-935a-4bedb40f9756",
   "metadata": {},
   "outputs": [
    {
     "name": "stdout",
     "output_type": "stream",
     "text": [
      "           Wzrost       Waga\n",
      "count    5.000000   5.000000\n",
      "mean   171.200000  65.400000\n",
      "std      7.596052   9.787747\n",
      "min    160.000000  55.000000\n",
      "25%    168.000000  60.000000\n",
      "50%    173.000000  62.000000\n",
      "75%    175.000000  70.000000\n",
      "max    180.000000  80.000000\n"
     ]
    }
   ],
   "source": [
    "print(df.describe())"
   ]
  },
  {
   "cell_type": "markdown",
   "id": "925ce47b-9aca-433d-bfb6-0f069bcfbbfd",
   "metadata": {},
   "source": [
    "### Filtrowanie"
   ]
  },
  {
   "cell_type": "code",
   "execution_count": 4,
   "id": "0185733e-865a-486e-a0ff-f8e1c254a77c",
   "metadata": {},
   "outputs": [
    {
     "name": "stdout",
     "output_type": "stream",
     "text": [
      "     Imię  Wzrost  Waga\n",
      "1  Bartek     175    70\n",
      "3  Daniel     180    80\n",
      "4   Hania     173    62\n"
     ]
    }
   ],
   "source": [
    "wysokie_osoby = df[df[\"Wzrost\"] > 170]\n",
    "print(wysokie_osoby)"
   ]
  },
  {
   "cell_type": "markdown",
   "id": "ec071aa6-b24b-4c13-8121-466668bac8bc",
   "metadata": {},
   "source": [
    "### Sortowanie po wadze"
   ]
  },
  {
   "cell_type": "code",
   "execution_count": 5,
   "id": "9f94a56e-82fd-4382-b960-b833f6be10c8",
   "metadata": {},
   "outputs": [
    {
     "name": "stdout",
     "output_type": "stream",
     "text": [
      "     Imię  Wzrost  Waga\n",
      "3  Daniel     180    80\n",
      "1  Bartek     175    70\n",
      "4   Hania     173    62\n",
      "2  Celina     168    60\n",
      "0    Ania     160    55\n"
     ]
    }
   ],
   "source": [
    "df_sorted = df.sort_values(by=\"Waga\", ascending=False)\n",
    "print(df_sorted)"
   ]
  },
  {
   "cell_type": "markdown",
   "id": "2648c212-ee67-411f-9afb-10a5953fe7fc",
   "metadata": {},
   "source": [
    "### Kto jest najlżejszy? Kto jest najwyższy"
   ]
  },
  {
   "cell_type": "code",
   "execution_count": 9,
   "id": "ab235388-889c-4a38-b65d-714c7999e19b",
   "metadata": {},
   "outputs": [
    {
     "data": {
      "text/plain": [
       "(0, 3)"
      ]
     },
     "execution_count": 9,
     "metadata": {},
     "output_type": "execute_result"
    }
   ],
   "source": [
    "df[\"Waga\"].idxmin(), df[\"Wzrost\"].idxmax()"
   ]
  },
  {
   "cell_type": "markdown",
   "id": "f786086c-6217-43af-8de9-a0b05ec44ad5",
   "metadata": {},
   "source": [
    "Ale my przecież chcemy kto to jest a nie indeks..."
   ]
  },
  {
   "cell_type": "code",
   "execution_count": 11,
   "id": "4303ab91-efb2-4d30-ac55-508924dce57a",
   "metadata": {},
   "outputs": [
    {
     "data": {
      "text/plain": [
       "('Ania', 'Daniel')"
      ]
     },
     "execution_count": 11,
     "metadata": {},
     "output_type": "execute_result"
    }
   ],
   "source": [
    "df[\"Imię\"][df[\"Waga\"].idxmin()], df[\"Imię\"][df[\"Wzrost\"].idxmax()]"
   ]
  },
  {
   "cell_type": "markdown",
   "id": "40114010-7d9a-4b3a-b663-a1297c84f034",
   "metadata": {},
   "source": [
    "# Jak zrobić, żeby nasza mama wiedziała co robimy?\n",
    "\n",
    "Musimy jej to zwizualizować na wykresie.\n",
    "\n",
    "Tak na prawdę używamy wykresów, żeby zobaczyć w nich jakieś wzorce, których ludzki umysł nie potrafii dostrzec na pierwszy rzut oka."
   ]
  },
  {
   "cell_type": "code",
   "execution_count": 24,
   "id": "da14067e-6ee7-4d62-897d-c3082b2e511c",
   "metadata": {},
   "outputs": [
    {
     "data": {
      "image/png": "[encoded data removed]",
      "text/plain": [
       "<Figure size 640x480 with 1 Axes>"
      ]
     },
     "metadata": {},
     "output_type": "display_data"
    }
   ],
   "source": [
    "import matplotlib.pyplot as plt\n",
    "\n",
    "wzrosty = np.random.randint(150, 170, 100)  # Symulowane dane\n",
    "\n",
    "plt.hist(wzrosty, bins=19, color=\"purple\", edgecolor=\"black\")\n",
    "plt.xlabel(\"Wzrost (cm)\")\n",
    "plt.ylabel(\"Liczba osób\")\n",
    "plt.title(\"Rozkład wzrostu uczestników\")\n",
    "plt.show()"
   ]
  },
  {
   "cell_type": "code",
   "execution_count": 25,
   "id": "1c0f5f39-12c5-46eb-b126-da1e29943b2f",
   "metadata": {},
   "outputs": [
    {
     "name": "stdout",
     "output_type": "stream",
     "text": [
      "[176.84873637 167.3601552  162.59886948 181.56819804 175.14987758\n",
      " 180.97349632 180.67982662 176.60250869 165.72866346 154.73842382\n",
      " 173.95199627 171.39455937 163.89668381 158.15105566 182.21282972\n",
      " 173.47816522 178.17698815 170.34044806 170.60407241 162.35144935\n",
      " 176.91113416 174.9886171  198.20296892 181.45761677 172.93096499\n",
      " 164.29802552 168.63600099 168.84838903 159.99685402 176.19881106\n",
      " 171.2290219  188.5795467  174.29651908 169.48371845 167.43903432\n",
      " 179.41085552 160.64523694 160.29300097 171.25737675 145.73084595\n",
      " 171.40037079 178.53962787 169.61158172 172.68946898 203.25423331\n",
      " 170.26271396 165.23292947 177.22081798 191.1359384  178.29280645]\n",
      "\n",
      "[ 89.31170667  80.97359705  84.76502285  85.27880796  82.68912139\n",
      " 101.47523933  83.46057683  86.47456075  83.16216843  73.33635848\n",
      "  91.78059048  79.74836619  85.31740032  80.21132184  89.15454617\n",
      "  89.46395008  84.7397079   89.25636162  85.75466557  85.4443225\n",
      "  88.87286805  92.56955064 100.10532724  94.31950725  87.47245352\n",
      "  82.19595389  86.07834545  86.64365111  81.65957924  80.73060259\n",
      "  86.05407047  90.41072817  83.2587433   90.06838308  77.69448375\n",
      "  90.03190816  77.81807573  76.699816    87.30018779  69.2806388\n",
      "  89.28284875  87.06468763  83.35528459  87.00753141  97.524924\n",
      "  83.43737543  84.96472699  82.61456434  90.26788075  90.24859281]\n"
     ]
    },
    {
     "name": "stdin",
     "output_type": "stream",
     "text": [
      " \n"
     ]
    },
    {
     "name": "stdout",
     "output_type": "stream",
     "text": [
      "[146, 155, 158, 160, 160, 161, 162, 163, 164, 164, 165, 166, 167, 167, 169, 169, 169, 170, 170, 170, 171, 171, 171, 171, 171, 173, 173, 173, 174, 174, 175, 175, 176, 177, 177, 177, 177, 178, 178, 179, 179, 181, 181, 181, 182, 182, 189, 191, 198, 203]\n",
      "\n",
      "[69, 73, 77, 78, 78, 80, 80, 81, 81, 82, 82, 83, 83, 83, 83, 83, 83, 83, 85, 85, 85, 85, 85, 85, 86, 86, 86, 86, 87, 87, 87, 87, 87, 89, 89, 89, 89, 89, 89, 90, 90, 90, 90, 90, 92, 93, 94, 98, 100, 101]\n"
     ]
    },
    {
     "name": "stdin",
     "output_type": "stream",
     "text": [
      " \n"
     ]
    },
    {
     "data": {
      "image/png": "[encoded data removed]",
      "text/plain": [
       "<Figure size 640x480 with 1 Axes>"
      ]
     },
     "metadata": {},
     "output_type": "display_data"
    }
   ],
   "source": [
    "wzrost = np.random.normal(170, 10, 50)\n",
    "waga = 0.5 * wzrost + np.random.normal(0, 3.5, 50)\n",
    "\n",
    "print(wzrost)\n",
    "print()\n",
    "print(waga)\n",
    "input()\n",
    "\n",
    "wzrost_ = [round(x) for x in wzrost]\n",
    "waga_ = [round(x) for x in waga]\n",
    "wzrost_.sort()\n",
    "waga_.sort()\n",
    "print(wzrost_)\n",
    "print()\n",
    "print(waga_)\n",
    "input()\n",
    "# Tworzenie wykresu punktowego\n",
    "plt.scatter(wzrost, waga, color=\"red\", marker=\"o\")\n",
    "\n",
    "# Opis osi i tytuł\n",
    "plt.xlabel(\"Wzrost (cm)\")\n",
    "plt.ylabel(\"Waga (kg)\")\n",
    "plt.title(\"Zależność wzrostu i wagi uczestników\")\n",
    "\n",
    "# Wyświetlenie wykresu\n",
    "plt.show()\n"
   ]
  },
  {
   "cell_type": "code",
   "execution_count": null,
   "id": "1c69dd07-e857-46f1-9798-2ea57b060fcd",
   "metadata": {},
   "outputs": [],
   "source": []
  }
 ],
 "metadata": {
  "kernelspec": {
   "display_name": "Python 3 (ipykernel)",
   "language": "python",
   "name": "python3"
  },
  "language_info": {
   "codemirror_mode": {
    "name": "ipython",
    "version": 3
   },
   "file_extension": ".py",
   "mimetype": "text/x-python",
   "name": "python",
   "nbconvert_exporter": "python",
   "pygments_lexer": "ipython3",
   "version": "3.11.2"
  }
 },
 "nbformat": 4,
 "nbformat_minor": 5
}
