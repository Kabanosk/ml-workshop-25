{
 "cells": [
  {
   "cell_type": "markdown",
   "id": "cea5f5d7-9452-4b0d-9e5d-0bce115ad8ac",
   "metadata": {},
   "source": [
    "# Cel wykładu\n",
    "Podczas tego wykładu nauczymy się super narzędzi, których zrozumienie pomoże nam ogarniać rzeczy dziejące się na tym wykładzie:\n",
    "- różne operacje z użyciem biblioteki `numpy`\n",
    "- robienie wykresów za pomocą narzędzia `matplotlib`\n",
    "- wczytywanie danych i ich wstępna analiza za pomocą biblioteki `pandas`\n",
    "\n",
    "### Ważne\n",
    "Te rzeczy nie są do nauczenia się w tydzień. Uczymy ich się cały czas i nawet mistrzowie mają z tym czasem problemy, bo czegoś nie pamiętają "
   ]
  },
  {
   "cell_type": "markdown",
   "id": "edca6e93-2b1e-4c7c-becf-5f9503ab142c",
   "metadata": {},
   "source": [
    "# Co to jest analiza danych?"
   ]
  },
  {
   "cell_type": "markdown",
   "id": "728beb47-eb9f-48e2-9d93-31d137a095f9",
   "metadata": {},
   "source": [
    "Czy kiedykolwiek zastanawialiście się jak Netflix poleca wam filmy, a Spotify utwory? Jak Żabka czy Biedronka polecają wam produkty do kupienia? (Pytanie do publiczności)\n",
    "\n",
    "Dzisiaj nauczymy się narzędzi, które pozwalają wam robić takie rzeczy B)"
   ]
  },
  {
   "cell_type": "markdown",
   "id": "138efe8f-b26f-4e15-a846-9ef21c1ecde0",
   "metadata": {},
   "source": [
    "# Numpy, czyli jak szybko liczyć"
   ]
  },
  {
   "cell_type": "markdown",
   "id": "f286f1c2-ff2f-4a8e-8aaf-821aa4823596",
   "metadata": {},
   "source": [
    "Najpierw nauczymy się pracować z liczbami. Python ma świetną bibliotekę numpy, która pozwala wykonywać obliczenia na dużych zbiorach danych w ułamku sekundy."
   ]
  },
  {
   "cell_type": "code",
   "execution_count": 1,
   "id": "37460dde-3da8-42d4-a284-c09544207359",
   "metadata": {},
   "outputs": [
    {
     "name": "stdout",
     "output_type": "stream",
     "text": [
      "Średni wzrost: 172.5\n",
      "Mediana wzrostu: 172.5\n",
      "Najniższy wzrost: 160\n",
      "Najwyższy wzrost: 185\n"
     ]
    }
   ],
   "source": [
    "# Importujemy numpy stosując `as np`, jako skrót żeby można było wszędzie pisać `np.`\n",
    "import numpy as np\n",
    "\n",
    "# Tworzymy tablicę z danymi o wzroście (w cm)\n",
    "wzrosty = np.array([160, 165, 170, 175, 180, 185])\n",
    "\n",
    "# I wypisujemy potrzebne dla nas informacje\n",
    "print(\"Średni wzrost:\", np.mean(wzrosty))\n",
    "print(\"Mediana wzrostu:\", np.median(wzrosty))\n",
    "print(\"Najniższy wzrost:\", np.min(wzrosty))\n",
    "print(\"Najwyższy wzrost:\", np.max(wzrosty))"
   ]
  },
  {
   "cell_type": "markdown",
   "id": "0b538df7-ee31-47d4-a863-92a6021782e9",
   "metadata": {},
   "source": [
    "## Generowanie losowych danych"
   ]
  },
  {
   "cell_type": "markdown",
   "id": "ec092e77-a706-4c41-951d-d1c06bdbad87",
   "metadata": {},
   "source": [
    "Czasem może być przydatne dla was generowanie danych losowych"
   ]
  },
  {
   "cell_type": "code",
   "execution_count": 35,
   "id": "75c2e387-3348-41a1-8d81-20580bbe2946",
   "metadata": {},
   "outputs": [
    {
     "name": "stdout",
     "output_type": "stream",
     "text": [
      "Losowe liczba całkowita od 0 do 10: 3\n",
      "Losowe 5 liczb całkowitych od 0 do 10: [4 7 7 8 9]\n",
      "\n",
      "Losowe liczba rzeczywiste od 0 do 1: 0.7244343865544018\n",
      "Losowe 5 liczb rzeczywistych od 0 do 1: [0.26158129 0.26120237 0.4338695  0.65107399 0.88128396]\n",
      "\n",
      "Losowe liczba ze zbioru `z`: 1\n"
     ]
    }
   ],
   "source": [
    "# Wygeneruj losowe liczby całkowite od 0 do 10\n",
    "print(f\"Losowe liczba całkowita od 0 do 10: {np.random.randint(0, 10)}\")\n",
    "print(f\"Losowe 5 liczb całkowitych od 0 do 10: {np.random.randint(0, 10, (5,))}\\n\")\n",
    "\n",
    "# Wygeneruj losowe liczby rzeczywiste od 0 do 1\n",
    "print(f\"Losowe liczba rzeczywiste od 0 do 1: {np.random.rand()}\")\n",
    "print(f\"Losowe 5 liczb rzeczywistych od 0 do 1: {np.random.rand(5)}\\n\")\n",
    "\n",
    "# Weź losową wartość ze zbioru\n",
    "z = [1,2,8,10,15]\n",
    "print(f\"Losowe liczba ze zbioru `z`: {np.random.choice(z)}\")"
   ]
  },
  {
   "cell_type": "markdown",
   "id": "7d245922-d65f-4024-b831-0e135b10de40",
   "metadata": {},
   "source": [
    "# Wczytywanie zapisanych danych używając `pandas`"
   ]
  },
  {
   "cell_type": "markdown",
   "id": "14152ae5-29af-4e6c-b866-23dd88b99f6f",
   "metadata": {},
   "source": [
    "Pandas to narzędzie do pracy z danymi w Pythonie, które działa jak arkusz kalkulacyjny – pozwala łatwo filtrować, sortować i analizować dane"
   ]
  },
  {
   "cell_type": "markdown",
   "id": "d4b51af2-e026-41a6-aa26-9208273018ac",
   "metadata": {},
   "source": [
    "## Robimy pierwszą tabelkę!"
   ]
  },
  {
   "cell_type": "code",
   "execution_count": 37,
   "id": "b3b1cd4b-b101-4ece-becd-a183cabc126c",
   "metadata": {},
   "outputs": [
    {
     "name": "stdout",
     "output_type": "stream",
     "text": [
      "     Imię  Wzrost  Waga\n",
      "0    Ania     160    55\n",
      "1  Bartek     175    70\n",
      "2  Celina     168    60\n",
      "3  Daniel     180    80\n"
     ]
    }
   ],
   "source": [
    "import pandas as pd\n",
    "\n",
    "dane = {\n",
    "    \"Imię\": [\"Ania\", \"Bartek\", \"Celina\", \"Daniel\"],\n",
    "    \"Wzrost\": [160, 175, 168, 180],\n",
    "    \"Waga\": [55, 70, 60, 80]\n",
    "}\n",
    "\n",
    "df = pd.DataFrame(dane)\n",
    "print(df)  # Wyświetlenie tabeli"
   ]
  },
  {
   "cell_type": "markdown",
   "id": "80a18260-878c-4504-a412-3e4949adeaf0",
   "metadata": {},
   "source": [
    "## Podstawowe operacje"
   ]
  },
  {
   "cell_type": "markdown",
   "id": "716bd202-fb34-4c3c-940e-d3bbf16d4d17",
   "metadata": {},
   "source": [
    "### Podstawowe statystyki"
   ]
  },
  {
   "cell_type": "code",
   "execution_count": 41,
   "id": "2c033c73-0f87-44fd-935a-4bedb40f9756",
   "metadata": {},
   "outputs": [
    {
     "name": "stdout",
     "output_type": "stream",
     "text": [
      "           Wzrost       Waga\n",
      "count    4.000000   4.000000\n",
      "mean   170.750000  66.250000\n",
      "std      8.693868  11.086779\n",
      "min    160.000000  55.000000\n",
      "25%    166.000000  58.750000\n",
      "50%    171.500000  65.000000\n",
      "75%    176.250000  72.500000\n",
      "max    180.000000  80.000000\n"
     ]
    }
   ],
   "source": [
    "print(df.describe())"
   ]
  },
  {
   "cell_type": "markdown",
   "id": "925ce47b-9aca-433d-bfb6-0f069bcfbbfd",
   "metadata": {},
   "source": [
    "### Filtrowanie"
   ]
  },
  {
   "cell_type": "code",
   "execution_count": 40,
   "id": "0185733e-865a-486e-a0ff-f8e1c254a77c",
   "metadata": {},
   "outputs": [
    {
     "name": "stdout",
     "output_type": "stream",
     "text": [
      "     Imię  Wzrost  Waga\n",
      "1  Bartek     175    70\n",
      "3  Daniel     180    80\n"
     ]
    }
   ],
   "source": [
    "wysokie_osoby = df[df[\"Wzrost\"] > 170]\n",
    "print(wysokie_osoby)"
   ]
  },
  {
   "cell_type": "markdown",
   "id": "ec071aa6-b24b-4c13-8121-466668bac8bc",
   "metadata": {},
   "source": [
    "### Sortowanie po wadze"
   ]
  },
  {
   "cell_type": "code",
   "execution_count": 43,
   "id": "9f94a56e-82fd-4382-b960-b833f6be10c8",
   "metadata": {},
   "outputs": [
    {
     "name": "stdout",
     "output_type": "stream",
     "text": [
      "     Imię  Wzrost  Waga\n",
      "3  Daniel     180    80\n",
      "1  Bartek     175    70\n",
      "2  Celina     168    60\n",
      "0    Ania     160    55\n"
     ]
    }
   ],
   "source": [
    "df_sorted = df.sort_values(by=\"Waga\", ascending=False)\n",
    "print(df_sorted)\n"
   ]
  },
  {
   "cell_type": "markdown",
   "id": "40114010-7d9a-4b3a-b663-a1297c84f034",
   "metadata": {},
   "source": [
    "# Jak zrobić, żeby nasza mama wiedziała co robimy?\n",
    "\n",
    "Musimy jej to zwizualizować na wykresie.\n",
    "\n",
    "Tak na prawdę używamy wykresów, żeby zobaczyć w nich jakieś wzorce, których ludzki umysł nie potrafii dostrzec na pierwszy rzut oka."
   ]
  },
  {
   "cell_type": "code",
   "execution_count": 112,
   "id": "da14067e-6ee7-4d62-897d-c3082b2e511c",
   "metadata": {},
   "outputs": [
    {
     "data": {
      "image/png": "[encoded data removed]",
      "text/plain": [
       "<Figure size 640x480 with 1 Axes>"
      ]
     },
     "metadata": {},
     "output_type": "display_data"
    }
   ],
   "source": [
    "import matplotlib.pyplot as plt\n",
    "\n",
    "wzrosty = np.random.randint(150, 170, 100)  # Symulowane dane\n",
    "\n",
    "plt.hist(wzrosty, bins=13, color=\"purple\", edgecolor=\"black\")\n",
    "plt.xlabel(\"Wzrost (cm)\")\n",
    "plt.ylabel(\"Liczba osób\")\n",
    "plt.title(\"Rozkład wzrostu uczestników\")\n",
    "plt.show()\n"
   ]
  },
  {
   "cell_type": "code",
   "execution_count": 132,
   "id": "1c0f5f39-12c5-46eb-b126-da1e29943b2f",
   "metadata": {},
   "outputs": [
    {
     "name": "stdout",
     "output_type": "stream",
     "text": [
      "[159.48078618 178.02735973 176.46876148 184.00531732 179.20573384\n",
      " 165.85116308 173.74349793 162.99997643 172.97094774 176.19293779\n",
      " 160.5322882  161.35427107 173.26615    156.47387412 167.61242506\n",
      " 185.40864814 175.78732721 165.84151009 184.79298943 163.50376462\n",
      " 176.98887326 173.88588549 181.20213106 173.44752234 154.45043041\n",
      " 149.91212488 163.3215878  173.25030528 176.93127874 169.97959166\n",
      " 170.90561481 157.72237849 172.23785431 155.34145552 166.61867378\n",
      " 166.26733649 167.81778474 164.18577283 181.80915256 175.43379122\n",
      " 177.89485396 164.44062537 181.93669556 160.0007502  159.96686327\n",
      " 181.52479387 175.02241467 193.0395057  163.48439097 183.22349835]\n",
      "\n",
      "[76.36307925 94.28567181 88.77606704 93.46620144 90.42642693 81.60058043\n",
      " 81.74538527 83.81191906 92.60405542 89.16377921 82.07218408 80.4944626\n",
      " 92.18935402 78.2324363  80.03227341 96.99519655 89.84837774 82.19480724\n",
      " 92.13273709 86.52794172 84.5871065  85.68997193 91.3352406  87.43241898\n",
      " 81.60397589 78.52440965 80.74661083 81.88443278 92.54201094 83.57266778\n",
      " 82.98356268 86.10782507 88.82846164 81.65152887 82.56430874 81.88097774\n",
      " 82.0383863  82.48357183 87.01964154 89.0846129  92.55945163 83.89934647\n",
      " 92.03994145 83.42719699 79.68870844 94.94828    90.99721639 94.79195232\n",
      " 83.79577934 88.7046056 ]\n"
     ]
    },
    {
     "name": "stdin",
     "output_type": "stream",
     "text": [
      " \n"
     ]
    },
    {
     "name": "stdout",
     "output_type": "stream",
     "text": [
      "[150, 154, 155, 156, 158, 159, 160, 160, 161, 161, 163, 163, 163, 164, 164, 164, 166, 166, 166, 167, 168, 168, 170, 171, 172, 173, 173, 173, 173, 174, 174, 175, 175, 176, 176, 176, 177, 177, 178, 178, 179, 181, 182, 182, 182, 183, 184, 185, 185, 193]\n",
      "\n",
      "[76, 78, 79, 80, 80, 80, 81, 82, 82, 82, 82, 82, 82, 82, 82, 82, 82, 83, 83, 83, 84, 84, 84, 84, 85, 86, 86, 87, 87, 87, 89, 89, 89, 89, 89, 90, 90, 91, 91, 92, 92, 92, 93, 93, 93, 93, 94, 95, 95, 97]\n"
     ]
    },
    {
     "name": "stdin",
     "output_type": "stream",
     "text": [
      " \n"
     ]
    },
    {
     "data": {
      "image/png": "[encoded data removed]",
      "text/plain": [
       "<Figure size 640x480 with 1 Axes>"
      ]
     },
     "metadata": {},
     "output_type": "display_data"
    }
   ],
   "source": [
    "wzrost = np.random.normal(170, 10, 50)\n",
    "waga = 0.5 * wzrost + np.random.normal(0, 3.5, 50)\n",
    "\n",
    "print(wzrost)\n",
    "print()\n",
    "print(waga)\n",
    "input()\n",
    "\n",
    "wzrost_ = [round(x) for x in wzrost]\n",
    "waga_ = [round(x) for x in waga]\n",
    "wzrost_.sort()\n",
    "waga_.sort()\n",
    "print(wzrost_)\n",
    "print()\n",
    "print(waga_)\n",
    "input()\n",
    "# Tworzenie wykresu punktowego\n",
    "plt.scatter(wzrost, waga, color=\"red\", marker=\"o\")\n",
    "\n",
    "# Opis osi i tytuł\n",
    "plt.xlabel(\"Wzrost (cm)\")\n",
    "plt.ylabel(\"Waga (kg)\")\n",
    "plt.title(\"Zależność wzrostu i wagi uczestników\")\n",
    "\n",
    "# Wyświetlenie wykresu\n",
    "plt.show()\n"
   ]
  }
 ],
 "metadata": {
  "kernelspec": {
   "display_name": "Python 3 (ipykernel)",
   "language": "python",
   "name": "python3"
  },
  "language_info": {
   "codemirror_mode": {
    "name": "ipython",
    "version": 3
   },
   "file_extension": ".py",
   "mimetype": "text/x-python",
   "name": "python",
   "nbconvert_exporter": "python",
   "pygments_lexer": "ipython3",
   "version": "3.12.3"
  }
 },
 "nbformat": 4,
 "nbformat_minor": 5
}
