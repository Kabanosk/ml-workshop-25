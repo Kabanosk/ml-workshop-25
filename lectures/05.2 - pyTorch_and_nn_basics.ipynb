{
 "cells": [
  {
   "cell_type": "markdown",
   "id": "654d8062",
   "metadata": {},
   "source": [
    "# 🧠 Wstęp do biblioteki PyTorch — podstawy potrzebne do zbudowanie prostej sieci neuronowej"
   ]
  },
  {
   "cell_type": "markdown",
   "id": "d9995de4",
   "metadata": {},
   "source": [
    "\n",
    "## Do czego służy PyTorch?\n",
    "\n",
    "PyTorch jest bardzo szeroko używaną biblioteką, szczególnie do zadań takich jak:\n",
    "\n",
    "- Deep learning\n",
    "- Computer vision and NLP\n",
    "- Uczenie ze wzmocnieniem\n",
    "\n",
    "### Mocne strony:\n",
    "- Automatyzacja wielu procesów związanych z budowaniem i uczeniem sieci neuronowych\n",
    "- Oparta na języku Python- prosta w użyciu\n",
    "- Wsparcie GPU\n"
   ]
  },
  {
   "cell_type": "code",
   "execution_count": 35,
   "id": "ede7ee93",
   "metadata": {},
   "outputs": [
    {
     "name": "stdout",
     "output_type": "stream",
     "text": [
      "PyTorch version: 2.5.1\n"
     ]
    }
   ],
   "source": [
    "\n",
    "import torch\n",
    "import torch.nn as nn\n",
    "import torch.nn.functional as F\n",
    "import torch.optim as optim\n",
    "\n",
    "print(\"PyTorch version:\", torch.__version__)\n"
   ]
  },
  {
   "cell_type": "markdown",
   "id": "0693fbff",
   "metadata": {},
   "source": [
    "## Podstawowy typ danych- tensor"
   ]
  },
  {
   "cell_type": "code",
   "execution_count": 36,
   "id": "08b10fc4",
   "metadata": {},
   "outputs": [
    {
     "name": "stdout",
     "output_type": "stream",
     "text": [
      "tensor([1., 2., 3.])\n",
      "tensor([1., 1., 1.])\n",
      "tensor([0.9872, 0.2583, 0.0940])\n",
      "\n",
      "Dodawanie: tensor([2., 3., 4.])\n",
      "Dot product: tensor(6.)\n",
      "Orginalne wymiary: torch.Size([2, 3])\n",
      "Zmiana wymiaru na (3,2): tensor([[-0.4530, -1.3707],\n",
      "        [ 0.2331, -0.2800],\n",
      "        [ 0.8277,  0.0197]])\n"
     ]
    }
   ],
   "source": [
    "\n",
    "# Tworzenie tensorów\n",
    "x = torch.tensor([1.0, 2.0, 3.0])\n",
    "y = torch.ones(3)\n",
    "z = torch.rand(3)\n",
    "\n",
    "print(x)\n",
    "print(y)\n",
    "print(z)\n",
    "print()\n",
    "\n",
    "# Możemy wykonywać na nich operacje jak na macierzach\n",
    "print(\"Dodawanie:\", x + y)\n",
    "print(\"Dot product:\", torch.dot(x, y))\n",
    "\n",
    "# Zmiana wymiarów\n",
    "a = torch.randn(2, 3)\n",
    "print(\"Orginalne wymiary:\", a.shape)\n",
    "print(\"Zmiana wymiaru na (3,2):\", a.view(3, 2))\n"
   ]
  },
  {
   "cell_type": "markdown",
   "id": "61064d0d",
   "metadata": {},
   "source": [
    "## Automatyczne różniczkowanie"
   ]
  },
  {
   "cell_type": "code",
   "execution_count": 37,
   "id": "40744593",
   "metadata": {},
   "outputs": [
    {
     "name": "stdout",
     "output_type": "stream",
     "text": [
      "Pochodna y względem x: tensor([6.])\n"
     ]
    }
   ],
   "source": [
    "\n",
    "x = torch.tensor([3.0], requires_grad=True)\n",
    "y = x ** 2\n",
    "y.backward()\n",
    "print(\"Pochodna y względem x:\", x.grad)\n"
   ]
  },
  {
   "cell_type": "markdown",
   "id": "b3b6646e",
   "metadata": {},
   "source": [
    "## Nasza pierwsza sieć neuronowa"
   ]
  },
  {
   "cell_type": "code",
   "execution_count": 38,
   "id": "25abe124",
   "metadata": {},
   "outputs": [
    {
     "name": "stdout",
     "output_type": "stream",
     "text": [
      "Epoch 0, Loss: 0.3014\n",
      "Epoch 1000, Loss: 0.2489\n",
      "Epoch 2000, Loss: 0.2448\n",
      "Epoch 3000, Loss: 0.2297\n",
      "Epoch 4000, Loss: 0.1844\n",
      "Epoch 5000, Loss: 0.1039\n",
      "Epoch 6000, Loss: 0.0451\n",
      "Epoch 7000, Loss: 0.0232\n",
      "Epoch 8000, Loss: 0.0144\n",
      "Epoch 9000, Loss: 0.0101\n"
     ]
    }
   ],
   "source": [
    "\n",
    "X = torch.tensor([[0.,0.],[0.,1.],[1.,0.],[1.,1.]])\n",
    "y = torch.tensor([[0.],[1.],[1.],[0.]])\n",
    "\n",
    "class SimpleNN(nn.Module):\n",
    "    def __init__(self):\n",
    "        super(SimpleNN, self).__init__()\n",
    "        self.fc1 = nn.Linear(2, 4)\n",
    "        self.fc2 = nn.Linear(4, 1)\n",
    "\n",
    "        torch.nn.init.kaiming_uniform_(self.fc1.weight, nonlinearity='sigmoid')\n",
    "        torch.nn.init.kaiming_uniform_(self.fc2.weight, nonlinearity='sigmoid')\n",
    "\n",
    "    def forward(self, x):\n",
    "        x = torch.sigmoid(self.fc1(x))\n",
    "        x = torch.sigmoid(self.fc2(x))\n",
    "        return x\n",
    "\n",
    "model = SimpleNN()\n",
    "criterion = nn.MSELoss()\n",
    "optimizer = optim.SGD(model.parameters(), lr=0.1)\n",
    "\n",
    "for epoch in range(10000):\n",
    "    optimizer.zero_grad()\n",
    "    outputs = model(X)\n",
    "    loss = criterion(outputs, y)\n",
    "    loss.backward()\n",
    "    optimizer.step()\n",
    "\n",
    "    if epoch % 1000 == 0:\n",
    "        print(f'Epoch {epoch}, Loss: {loss.item():.4f}')\n"
   ]
  },
  {
   "cell_type": "markdown",
   "id": "939a09ff",
   "metadata": {},
   "source": [
    "## Ewaluacja modelu"
   ]
  },
  {
   "cell_type": "code",
   "execution_count": 39,
   "id": "c0e5c9ab",
   "metadata": {},
   "outputs": [
    {
     "name": "stdout",
     "output_type": "stream",
     "text": [
      "Predictions:\n",
      "tensor([[0.],\n",
      "        [1.],\n",
      "        [1.],\n",
      "        [0.]])\n"
     ]
    }
   ],
   "source": [
    "\n",
    "with torch.no_grad():\n",
    "    predictions = model(X)\n",
    "    print(\"Predictions:\")\n",
    "    print(predictions.round())\n"
   ]
  },
  {
   "cell_type": "markdown",
   "id": "18e88ab7",
   "metadata": {},
   "source": [
    "## Klasyfikacja Irysów"
   ]
  },
  {
   "cell_type": "code",
   "execution_count": 40,
   "id": "f105c1bc",
   "metadata": {},
   "outputs": [],
   "source": [
    "import torch\n",
    "import torch.nn as nn\n",
    "import torch.nn.functional as F\n",
    "import torch.optim as optim\n",
    "from torch.utils.data import TensorDataset, DataLoader\n",
    "\n",
    "from sklearn.datasets import load_iris\n",
    "from sklearn.model_selection import train_test_split\n",
    "from sklearn.preprocessing import StandardScaler"
   ]
  },
  {
   "cell_type": "markdown",
   "id": "4ca15417",
   "metadata": {},
   "source": [
    "## Ładujemy dane i odpowiednio je dzielimy"
   ]
  },
  {
   "cell_type": "code",
   "execution_count": 41,
   "id": "03502f56",
   "metadata": {},
   "outputs": [],
   "source": [
    "# Ładowanie danych\n",
    "iris = load_iris()\n",
    "X = iris.data\n",
    "y = iris.target\n",
    "\n",
    "# Normalizacja\n",
    "scaler = StandardScaler()\n",
    "X = scaler.fit_transform(X)\n",
    "\n",
    "# Dzielimy na zbiór treningowy i testowy\n",
    "X_train, X_test, y_train, y_test = train_test_split(X, y, test_size=0.2, random_state=42)\n",
    "\n",
    "# Zamieniamy typ danych na obsługiwany przez pytorcha- tensor\n",
    "X_train_tensor = torch.tensor(X_train, dtype=torch.float32)\n",
    "y_train_tensor = torch.tensor(y_train, dtype=torch.long)\n",
    "X_test_tensor = torch.tensor(X_test, dtype=torch.float32)\n",
    "y_test_tensor = torch.tensor(y_test, dtype=torch.long)"
   ]
  },
  {
   "cell_type": "markdown",
   "id": "01aa57f6",
   "metadata": {},
   "source": [
    "## DataLoader- to on będzie pozwalał nam wygodnie wielokrotnie przechodzić przez dane treningowe i testowe"
   ]
  },
  {
   "cell_type": "code",
   "execution_count": 42,
   "id": "9029e9c8",
   "metadata": {},
   "outputs": [],
   "source": [
    "train_dataset = TensorDataset(X_train_tensor, y_train_tensor)\n",
    "train_loader = DataLoader(train_dataset, batch_size=16, shuffle=True)\n",
    "\n",
    "test_dataset = TensorDataset(X_test_tensor, y_test_tensor)\n",
    "test_loader = DataLoader(test_dataset, batch_size=16, shuffle=False)\n"
   ]
  },
  {
   "cell_type": "markdown",
   "id": "927720d3",
   "metadata": {},
   "source": [
    "## Szkielet naszej sieci neuronowej"
   ]
  },
  {
   "cell_type": "code",
   "execution_count": 43,
   "id": "61661cbb",
   "metadata": {},
   "outputs": [],
   "source": [
    "class IrisNet(nn.Module):\n",
    "    def __init__(self):\n",
    "        super(IrisNet, self).__init__()\n",
    "        self.fc1 = nn.Linear(4, 16)\n",
    "        self.fc2 = nn.Linear(16, 3)\n",
    "\n",
    "    def forward(self, x):\n",
    "        x = F.relu(self.fc1(x))\n",
    "        x = self.fc2(x)\n",
    "        return x\n",
    "\n",
    "model = IrisNet()\n",
    "criterion = nn.CrossEntropyLoss()\n",
    "optimizer = optim.Adam(model.parameters(), lr=0.01)"
   ]
  },
  {
   "cell_type": "markdown",
   "id": "e113fab5",
   "metadata": {},
   "source": [
    "## Trening!"
   ]
  },
  {
   "cell_type": "code",
   "execution_count": 44,
   "id": "68e81d0f",
   "metadata": {},
   "outputs": [
    {
     "name": "stdout",
     "output_type": "stream",
     "text": [
      "Epoch 10/100, Loss: 2.0516\n",
      "Epoch 20/100, Loss: 0.7308\n",
      "Epoch 30/100, Loss: 0.5096\n",
      "Epoch 40/100, Loss: 0.4862\n",
      "Epoch 50/100, Loss: 0.3951\n",
      "Epoch 60/100, Loss: 0.4455\n",
      "Epoch 70/100, Loss: 0.4814\n",
      "Epoch 80/100, Loss: 0.3514\n",
      "Epoch 90/100, Loss: 0.4179\n",
      "Epoch 100/100, Loss: 0.3974\n"
     ]
    }
   ],
   "source": [
    "epochs = 100\n",
    "for epoch in range(epochs):\n",
    "    total_loss = 0\n",
    "    for batch_X, batch_y in train_loader:\n",
    "        optimizer.zero_grad()\n",
    "        outputs = model(batch_X)\n",
    "        loss = criterion(outputs, batch_y)\n",
    "        loss.backward()\n",
    "        optimizer.step()\n",
    "        total_loss += loss.item()\n",
    "\n",
    "    if (epoch+1) % 10 == 0:\n",
    "        print(f\"Epoch {epoch+1}/{epochs}, Loss: {total_loss:.4f}\")"
   ]
  },
  {
   "cell_type": "markdown",
   "id": "84ff9f54",
   "metadata": {},
   "source": [
    "## Sprawdzamy, jak mu poszło"
   ]
  },
  {
   "cell_type": "code",
   "execution_count": 45,
   "id": "b676719a",
   "metadata": {},
   "outputs": [
    {
     "name": "stdout",
     "output_type": "stream",
     "text": [
      "Iris Classification Accuracy: 100.00%\n"
     ]
    }
   ],
   "source": [
    "correct = 0\n",
    "total = 0\n",
    "with torch.no_grad():\n",
    "    for batch_X, batch_y in test_loader:\n",
    "        outputs = model(batch_X)\n",
    "        _, predicted = torch.max(outputs.data, 1)\n",
    "        total += batch_y.size(0)\n",
    "        correct += (predicted == batch_y).sum().item()\n",
    "\n",
    "accuracy = 100 * correct / total\n",
    "print(f\"Iris Classification Accuracy: {accuracy:.2f}%\")"
   ]
  }
 ],
 "metadata": {
  "kernelspec": {
   "display_name": "LM",
   "language": "python",
   "name": "python3"
  },
  "language_info": {
   "codemirror_mode": {
    "name": "ipython",
    "version": 3
   },
   "file_extension": ".py",
   "mimetype": "text/x-python",
   "name": "python",
   "nbconvert_exporter": "python",
   "pygments_lexer": "ipython3",
   "version": "3.12.3"
  }
 },
 "nbformat": 4,
 "nbformat_minor": 5
}
